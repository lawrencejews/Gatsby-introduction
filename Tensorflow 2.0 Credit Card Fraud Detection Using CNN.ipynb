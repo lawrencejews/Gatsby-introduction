{
 "cells": [
  {
   "cell_type": "code",
   "execution_count": 1,
   "metadata": {},
   "outputs": [
    {
     "name": "stdout",
     "output_type": "stream",
     "text": [
      "2.1.0\n"
     ]
    }
   ],
   "source": [
    "import tensorflow as tf\n",
    "from tensorflow import keras\n",
    "from tensorflow.keras import Sequential\n",
    "from tensorflow.keras.layers import Flatten, Dense, Dropout, BatchNormalization\n",
    "from tensorflow.keras.layers import Conv1D, MaxPool1D\n",
    "from tensorflow.keras.optimizers import Adam\n",
    "print(tf.__version__)"
   ]
  },
  {
   "cell_type": "code",
   "execution_count": 3,
   "metadata": {},
   "outputs": [],
   "source": [
    "import pandas as pd\n",
    "import numpy as np\n",
    "import matplotlib.pyplot as plt\n",
    "from sklearn.model_selection import train_test_split\n",
    "from sklearn.preprocessing import StandardScaler"
   ]
  },
  {
   "cell_type": "code",
   "execution_count": 5,
   "metadata": {},
   "outputs": [
    {
     "data": {
      "text/html": [
       "<div>\n",
       "<style scoped>\n",
       "    .dataframe tbody tr th:only-of-type {\n",
       "        vertical-align: middle;\n",
       "    }\n",
       "\n",
       "    .dataframe tbody tr th {\n",
       "        vertical-align: top;\n",
       "    }\n",
       "\n",
       "    .dataframe thead th {\n",
       "        text-align: right;\n",
       "    }\n",
       "</style>\n",
       "<table border=\"1\" class=\"dataframe\">\n",
       "  <thead>\n",
       "    <tr style=\"text-align: right;\">\n",
       "      <th></th>\n",
       "      <th>Time</th>\n",
       "      <th>V1</th>\n",
       "      <th>V2</th>\n",
       "      <th>V3</th>\n",
       "      <th>V4</th>\n",
       "      <th>V5</th>\n",
       "      <th>V6</th>\n",
       "      <th>V7</th>\n",
       "      <th>V8</th>\n",
       "      <th>V9</th>\n",
       "      <th>...</th>\n",
       "      <th>V21</th>\n",
       "      <th>V22</th>\n",
       "      <th>V23</th>\n",
       "      <th>V24</th>\n",
       "      <th>V25</th>\n",
       "      <th>V26</th>\n",
       "      <th>V27</th>\n",
       "      <th>V28</th>\n",
       "      <th>Amount</th>\n",
       "      <th>Class</th>\n",
       "    </tr>\n",
       "  </thead>\n",
       "  <tbody>\n",
       "    <tr>\n",
       "      <th>0</th>\n",
       "      <td>0.0</td>\n",
       "      <td>-1.359807</td>\n",
       "      <td>-0.072781</td>\n",
       "      <td>2.536347</td>\n",
       "      <td>1.378155</td>\n",
       "      <td>-0.338321</td>\n",
       "      <td>0.462388</td>\n",
       "      <td>0.239599</td>\n",
       "      <td>0.098698</td>\n",
       "      <td>0.363787</td>\n",
       "      <td>...</td>\n",
       "      <td>-0.018307</td>\n",
       "      <td>0.277838</td>\n",
       "      <td>-0.110474</td>\n",
       "      <td>0.066928</td>\n",
       "      <td>0.128539</td>\n",
       "      <td>-0.189115</td>\n",
       "      <td>0.133558</td>\n",
       "      <td>-0.021053</td>\n",
       "      <td>149.62</td>\n",
       "      <td>0</td>\n",
       "    </tr>\n",
       "    <tr>\n",
       "      <th>1</th>\n",
       "      <td>0.0</td>\n",
       "      <td>1.191857</td>\n",
       "      <td>0.266151</td>\n",
       "      <td>0.166480</td>\n",
       "      <td>0.448154</td>\n",
       "      <td>0.060018</td>\n",
       "      <td>-0.082361</td>\n",
       "      <td>-0.078803</td>\n",
       "      <td>0.085102</td>\n",
       "      <td>-0.255425</td>\n",
       "      <td>...</td>\n",
       "      <td>-0.225775</td>\n",
       "      <td>-0.638672</td>\n",
       "      <td>0.101288</td>\n",
       "      <td>-0.339846</td>\n",
       "      <td>0.167170</td>\n",
       "      <td>0.125895</td>\n",
       "      <td>-0.008983</td>\n",
       "      <td>0.014724</td>\n",
       "      <td>2.69</td>\n",
       "      <td>0</td>\n",
       "    </tr>\n",
       "    <tr>\n",
       "      <th>2</th>\n",
       "      <td>1.0</td>\n",
       "      <td>-1.358354</td>\n",
       "      <td>-1.340163</td>\n",
       "      <td>1.773209</td>\n",
       "      <td>0.379780</td>\n",
       "      <td>-0.503198</td>\n",
       "      <td>1.800499</td>\n",
       "      <td>0.791461</td>\n",
       "      <td>0.247676</td>\n",
       "      <td>-1.514654</td>\n",
       "      <td>...</td>\n",
       "      <td>0.247998</td>\n",
       "      <td>0.771679</td>\n",
       "      <td>0.909412</td>\n",
       "      <td>-0.689281</td>\n",
       "      <td>-0.327642</td>\n",
       "      <td>-0.139097</td>\n",
       "      <td>-0.055353</td>\n",
       "      <td>-0.059752</td>\n",
       "      <td>378.66</td>\n",
       "      <td>0</td>\n",
       "    </tr>\n",
       "    <tr>\n",
       "      <th>3</th>\n",
       "      <td>1.0</td>\n",
       "      <td>-0.966272</td>\n",
       "      <td>-0.185226</td>\n",
       "      <td>1.792993</td>\n",
       "      <td>-0.863291</td>\n",
       "      <td>-0.010309</td>\n",
       "      <td>1.247203</td>\n",
       "      <td>0.237609</td>\n",
       "      <td>0.377436</td>\n",
       "      <td>-1.387024</td>\n",
       "      <td>...</td>\n",
       "      <td>-0.108300</td>\n",
       "      <td>0.005274</td>\n",
       "      <td>-0.190321</td>\n",
       "      <td>-1.175575</td>\n",
       "      <td>0.647376</td>\n",
       "      <td>-0.221929</td>\n",
       "      <td>0.062723</td>\n",
       "      <td>0.061458</td>\n",
       "      <td>123.50</td>\n",
       "      <td>0</td>\n",
       "    </tr>\n",
       "    <tr>\n",
       "      <th>4</th>\n",
       "      <td>2.0</td>\n",
       "      <td>-1.158233</td>\n",
       "      <td>0.877737</td>\n",
       "      <td>1.548718</td>\n",
       "      <td>0.403034</td>\n",
       "      <td>-0.407193</td>\n",
       "      <td>0.095921</td>\n",
       "      <td>0.592941</td>\n",
       "      <td>-0.270533</td>\n",
       "      <td>0.817739</td>\n",
       "      <td>...</td>\n",
       "      <td>-0.009431</td>\n",
       "      <td>0.798278</td>\n",
       "      <td>-0.137458</td>\n",
       "      <td>0.141267</td>\n",
       "      <td>-0.206010</td>\n",
       "      <td>0.502292</td>\n",
       "      <td>0.219422</td>\n",
       "      <td>0.215153</td>\n",
       "      <td>69.99</td>\n",
       "      <td>0</td>\n",
       "    </tr>\n",
       "  </tbody>\n",
       "</table>\n",
       "<p>5 rows × 31 columns</p>\n",
       "</div>"
      ],
      "text/plain": [
       "   Time        V1        V2        V3        V4        V5        V6        V7  \\\n",
       "0   0.0 -1.359807 -0.072781  2.536347  1.378155 -0.338321  0.462388  0.239599   \n",
       "1   0.0  1.191857  0.266151  0.166480  0.448154  0.060018 -0.082361 -0.078803   \n",
       "2   1.0 -1.358354 -1.340163  1.773209  0.379780 -0.503198  1.800499  0.791461   \n",
       "3   1.0 -0.966272 -0.185226  1.792993 -0.863291 -0.010309  1.247203  0.237609   \n",
       "4   2.0 -1.158233  0.877737  1.548718  0.403034 -0.407193  0.095921  0.592941   \n",
       "\n",
       "         V8        V9  ...       V21       V22       V23       V24       V25  \\\n",
       "0  0.098698  0.363787  ... -0.018307  0.277838 -0.110474  0.066928  0.128539   \n",
       "1  0.085102 -0.255425  ... -0.225775 -0.638672  0.101288 -0.339846  0.167170   \n",
       "2  0.247676 -1.514654  ...  0.247998  0.771679  0.909412 -0.689281 -0.327642   \n",
       "3  0.377436 -1.387024  ... -0.108300  0.005274 -0.190321 -1.175575  0.647376   \n",
       "4 -0.270533  0.817739  ... -0.009431  0.798278 -0.137458  0.141267 -0.206010   \n",
       "\n",
       "        V26       V27       V28  Amount  Class  \n",
       "0 -0.189115  0.133558 -0.021053  149.62      0  \n",
       "1  0.125895 -0.008983  0.014724    2.69      0  \n",
       "2 -0.139097 -0.055353 -0.059752  378.66      0  \n",
       "3 -0.221929  0.062723  0.061458  123.50      0  \n",
       "4  0.502292  0.219422  0.215153   69.99      0  \n",
       "\n",
       "[5 rows x 31 columns]"
      ]
     },
     "execution_count": 5,
     "metadata": {},
     "output_type": "execute_result"
    }
   ],
   "source": [
    "data = pd.read_csv('C:/Users/User/Desktop/New Books/Python Machine learning/data_path/creditcard.csv')\n",
    "data.head()"
   ]
  },
  {
   "cell_type": "code",
   "execution_count": 6,
   "metadata": {},
   "outputs": [
    {
     "data": {
      "text/plain": [
       "(284807, 31)"
      ]
     },
     "execution_count": 6,
     "metadata": {},
     "output_type": "execute_result"
    }
   ],
   "source": [
    "data.shape"
   ]
  },
  {
   "cell_type": "code",
   "execution_count": 7,
   "metadata": {},
   "outputs": [
    {
     "data": {
      "text/plain": [
       "Time      0\n",
       "V1        0\n",
       "V2        0\n",
       "V3        0\n",
       "V4        0\n",
       "V5        0\n",
       "V6        0\n",
       "V7        0\n",
       "V8        0\n",
       "V9        0\n",
       "V10       0\n",
       "V11       0\n",
       "V12       0\n",
       "V13       0\n",
       "V14       0\n",
       "V15       0\n",
       "V16       0\n",
       "V17       0\n",
       "V18       0\n",
       "V19       0\n",
       "V20       0\n",
       "V21       0\n",
       "V22       0\n",
       "V23       0\n",
       "V24       0\n",
       "V25       0\n",
       "V26       0\n",
       "V27       0\n",
       "V28       0\n",
       "Amount    0\n",
       "Class     0\n",
       "dtype: int64"
      ]
     },
     "execution_count": 7,
     "metadata": {},
     "output_type": "execute_result"
    }
   ],
   "source": [
    "data.isnull().sum()"
   ]
  },
  {
   "cell_type": "code",
   "execution_count": 8,
   "metadata": {},
   "outputs": [
    {
     "name": "stdout",
     "output_type": "stream",
     "text": [
      "<class 'pandas.core.frame.DataFrame'>\n",
      "RangeIndex: 284807 entries, 0 to 284806\n",
      "Data columns (total 31 columns):\n",
      "Time      284807 non-null float64\n",
      "V1        284807 non-null float64\n",
      "V2        284807 non-null float64\n",
      "V3        284807 non-null float64\n",
      "V4        284807 non-null float64\n",
      "V5        284807 non-null float64\n",
      "V6        284807 non-null float64\n",
      "V7        284807 non-null float64\n",
      "V8        284807 non-null float64\n",
      "V9        284807 non-null float64\n",
      "V10       284807 non-null float64\n",
      "V11       284807 non-null float64\n",
      "V12       284807 non-null float64\n",
      "V13       284807 non-null float64\n",
      "V14       284807 non-null float64\n",
      "V15       284807 non-null float64\n",
      "V16       284807 non-null float64\n",
      "V17       284807 non-null float64\n",
      "V18       284807 non-null float64\n",
      "V19       284807 non-null float64\n",
      "V20       284807 non-null float64\n",
      "V21       284807 non-null float64\n",
      "V22       284807 non-null float64\n",
      "V23       284807 non-null float64\n",
      "V24       284807 non-null float64\n",
      "V25       284807 non-null float64\n",
      "V26       284807 non-null float64\n",
      "V27       284807 non-null float64\n",
      "V28       284807 non-null float64\n",
      "Amount    284807 non-null float64\n",
      "Class     284807 non-null int64\n",
      "dtypes: float64(30), int64(1)\n",
      "memory usage: 67.4 MB\n"
     ]
    }
   ],
   "source": [
    "data.info()"
   ]
  },
  {
   "cell_type": "code",
   "execution_count": 9,
   "metadata": {},
   "outputs": [
    {
     "data": {
      "text/plain": [
       "0    284315\n",
       "1       492\n",
       "Name: Class, dtype: int64"
      ]
     },
     "execution_count": 9,
     "metadata": {},
     "output_type": "execute_result"
    }
   ],
   "source": [
    "data['Class'].value_counts()"
   ]
  },
  {
   "cell_type": "markdown",
   "metadata": {},
   "source": [
    "# Balance Dataset"
   ]
  },
  {
   "cell_type": "code",
   "execution_count": 10,
   "metadata": {},
   "outputs": [
    {
     "data": {
      "text/plain": [
       "((284315, 31), (492, 31))"
      ]
     },
     "execution_count": 10,
     "metadata": {},
     "output_type": "execute_result"
    }
   ],
   "source": [
    "non_fraud = data[data['Class']==0]\n",
    "fraud = data[data['Class']==1]\n",
    "\n",
    "non_fraud.shape, fraud.shape"
   ]
  },
  {
   "cell_type": "code",
   "execution_count": 11,
   "metadata": {},
   "outputs": [
    {
     "data": {
      "text/plain": [
       "(492, 31)"
      ]
     },
     "execution_count": 11,
     "metadata": {},
     "output_type": "execute_result"
    }
   ],
   "source": [
    "non_fraud = non_fraud.sample(fraud.shape[0])\n",
    "non_fraud.shape"
   ]
  },
  {
   "cell_type": "code",
   "execution_count": 12,
   "metadata": {},
   "outputs": [
    {
     "data": {
      "text/html": [
       "<div>\n",
       "<style scoped>\n",
       "    .dataframe tbody tr th:only-of-type {\n",
       "        vertical-align: middle;\n",
       "    }\n",
       "\n",
       "    .dataframe tbody tr th {\n",
       "        vertical-align: top;\n",
       "    }\n",
       "\n",
       "    .dataframe thead th {\n",
       "        text-align: right;\n",
       "    }\n",
       "</style>\n",
       "<table border=\"1\" class=\"dataframe\">\n",
       "  <thead>\n",
       "    <tr style=\"text-align: right;\">\n",
       "      <th></th>\n",
       "      <th>Time</th>\n",
       "      <th>V1</th>\n",
       "      <th>V2</th>\n",
       "      <th>V3</th>\n",
       "      <th>V4</th>\n",
       "      <th>V5</th>\n",
       "      <th>V6</th>\n",
       "      <th>V7</th>\n",
       "      <th>V8</th>\n",
       "      <th>V9</th>\n",
       "      <th>...</th>\n",
       "      <th>V21</th>\n",
       "      <th>V22</th>\n",
       "      <th>V23</th>\n",
       "      <th>V24</th>\n",
       "      <th>V25</th>\n",
       "      <th>V26</th>\n",
       "      <th>V27</th>\n",
       "      <th>V28</th>\n",
       "      <th>Amount</th>\n",
       "      <th>Class</th>\n",
       "    </tr>\n",
       "  </thead>\n",
       "  <tbody>\n",
       "    <tr>\n",
       "      <th>0</th>\n",
       "      <td>406.0</td>\n",
       "      <td>-2.312227</td>\n",
       "      <td>1.951992</td>\n",
       "      <td>-1.609851</td>\n",
       "      <td>3.997906</td>\n",
       "      <td>-0.522188</td>\n",
       "      <td>-1.426545</td>\n",
       "      <td>-2.537387</td>\n",
       "      <td>1.391657</td>\n",
       "      <td>-2.770089</td>\n",
       "      <td>...</td>\n",
       "      <td>0.517232</td>\n",
       "      <td>-0.035049</td>\n",
       "      <td>-0.465211</td>\n",
       "      <td>0.320198</td>\n",
       "      <td>0.044519</td>\n",
       "      <td>0.177840</td>\n",
       "      <td>0.261145</td>\n",
       "      <td>-0.143276</td>\n",
       "      <td>0.00</td>\n",
       "      <td>1</td>\n",
       "    </tr>\n",
       "    <tr>\n",
       "      <th>1</th>\n",
       "      <td>472.0</td>\n",
       "      <td>-3.043541</td>\n",
       "      <td>-3.157307</td>\n",
       "      <td>1.088463</td>\n",
       "      <td>2.288644</td>\n",
       "      <td>1.359805</td>\n",
       "      <td>-1.064823</td>\n",
       "      <td>0.325574</td>\n",
       "      <td>-0.067794</td>\n",
       "      <td>-0.270953</td>\n",
       "      <td>...</td>\n",
       "      <td>0.661696</td>\n",
       "      <td>0.435477</td>\n",
       "      <td>1.375966</td>\n",
       "      <td>-0.293803</td>\n",
       "      <td>0.279798</td>\n",
       "      <td>-0.145362</td>\n",
       "      <td>-0.252773</td>\n",
       "      <td>0.035764</td>\n",
       "      <td>529.00</td>\n",
       "      <td>1</td>\n",
       "    </tr>\n",
       "    <tr>\n",
       "      <th>2</th>\n",
       "      <td>4462.0</td>\n",
       "      <td>-2.303350</td>\n",
       "      <td>1.759247</td>\n",
       "      <td>-0.359745</td>\n",
       "      <td>2.330243</td>\n",
       "      <td>-0.821628</td>\n",
       "      <td>-0.075788</td>\n",
       "      <td>0.562320</td>\n",
       "      <td>-0.399147</td>\n",
       "      <td>-0.238253</td>\n",
       "      <td>...</td>\n",
       "      <td>-0.294166</td>\n",
       "      <td>-0.932391</td>\n",
       "      <td>0.172726</td>\n",
       "      <td>-0.087330</td>\n",
       "      <td>-0.156114</td>\n",
       "      <td>-0.542628</td>\n",
       "      <td>0.039566</td>\n",
       "      <td>-0.153029</td>\n",
       "      <td>239.93</td>\n",
       "      <td>1</td>\n",
       "    </tr>\n",
       "    <tr>\n",
       "      <th>3</th>\n",
       "      <td>6986.0</td>\n",
       "      <td>-4.397974</td>\n",
       "      <td>1.358367</td>\n",
       "      <td>-2.592844</td>\n",
       "      <td>2.679787</td>\n",
       "      <td>-1.128131</td>\n",
       "      <td>-1.706536</td>\n",
       "      <td>-3.496197</td>\n",
       "      <td>-0.248778</td>\n",
       "      <td>-0.247768</td>\n",
       "      <td>...</td>\n",
       "      <td>0.573574</td>\n",
       "      <td>0.176968</td>\n",
       "      <td>-0.436207</td>\n",
       "      <td>-0.053502</td>\n",
       "      <td>0.252405</td>\n",
       "      <td>-0.657488</td>\n",
       "      <td>-0.827136</td>\n",
       "      <td>0.849573</td>\n",
       "      <td>59.00</td>\n",
       "      <td>1</td>\n",
       "    </tr>\n",
       "    <tr>\n",
       "      <th>4</th>\n",
       "      <td>7519.0</td>\n",
       "      <td>1.234235</td>\n",
       "      <td>3.019740</td>\n",
       "      <td>-4.304597</td>\n",
       "      <td>4.732795</td>\n",
       "      <td>3.624201</td>\n",
       "      <td>-1.357746</td>\n",
       "      <td>1.713445</td>\n",
       "      <td>-0.496358</td>\n",
       "      <td>-1.282858</td>\n",
       "      <td>...</td>\n",
       "      <td>-0.379068</td>\n",
       "      <td>-0.704181</td>\n",
       "      <td>-0.656805</td>\n",
       "      <td>-1.632653</td>\n",
       "      <td>1.488901</td>\n",
       "      <td>0.566797</td>\n",
       "      <td>-0.010016</td>\n",
       "      <td>0.146793</td>\n",
       "      <td>1.00</td>\n",
       "      <td>1</td>\n",
       "    </tr>\n",
       "    <tr>\n",
       "      <th>...</th>\n",
       "      <td>...</td>\n",
       "      <td>...</td>\n",
       "      <td>...</td>\n",
       "      <td>...</td>\n",
       "      <td>...</td>\n",
       "      <td>...</td>\n",
       "      <td>...</td>\n",
       "      <td>...</td>\n",
       "      <td>...</td>\n",
       "      <td>...</td>\n",
       "      <td>...</td>\n",
       "      <td>...</td>\n",
       "      <td>...</td>\n",
       "      <td>...</td>\n",
       "      <td>...</td>\n",
       "      <td>...</td>\n",
       "      <td>...</td>\n",
       "      <td>...</td>\n",
       "      <td>...</td>\n",
       "      <td>...</td>\n",
       "      <td>...</td>\n",
       "    </tr>\n",
       "    <tr>\n",
       "      <th>979</th>\n",
       "      <td>83593.0</td>\n",
       "      <td>1.396748</td>\n",
       "      <td>-0.427093</td>\n",
       "      <td>0.295858</td>\n",
       "      <td>-0.775091</td>\n",
       "      <td>-0.763515</td>\n",
       "      <td>-0.776974</td>\n",
       "      <td>-0.391848</td>\n",
       "      <td>-0.246698</td>\n",
       "      <td>-0.943743</td>\n",
       "      <td>...</td>\n",
       "      <td>-0.143612</td>\n",
       "      <td>-0.550242</td>\n",
       "      <td>0.056129</td>\n",
       "      <td>-0.118486</td>\n",
       "      <td>0.313276</td>\n",
       "      <td>-0.491565</td>\n",
       "      <td>0.007291</td>\n",
       "      <td>0.023371</td>\n",
       "      <td>34.55</td>\n",
       "      <td>0</td>\n",
       "    </tr>\n",
       "    <tr>\n",
       "      <th>980</th>\n",
       "      <td>127018.0</td>\n",
       "      <td>1.868861</td>\n",
       "      <td>-0.532595</td>\n",
       "      <td>-1.476445</td>\n",
       "      <td>-0.055277</td>\n",
       "      <td>0.350819</td>\n",
       "      <td>0.182247</td>\n",
       "      <td>0.029948</td>\n",
       "      <td>-0.044840</td>\n",
       "      <td>0.710349</td>\n",
       "      <td>...</td>\n",
       "      <td>-0.089976</td>\n",
       "      <td>-0.225355</td>\n",
       "      <td>0.073391</td>\n",
       "      <td>0.075392</td>\n",
       "      <td>-0.006522</td>\n",
       "      <td>-0.110217</td>\n",
       "      <td>-0.042065</td>\n",
       "      <td>-0.047971</td>\n",
       "      <td>97.01</td>\n",
       "      <td>0</td>\n",
       "    </tr>\n",
       "    <tr>\n",
       "      <th>981</th>\n",
       "      <td>114810.0</td>\n",
       "      <td>2.139060</td>\n",
       "      <td>-1.689394</td>\n",
       "      <td>-0.707111</td>\n",
       "      <td>-1.755276</td>\n",
       "      <td>-1.234484</td>\n",
       "      <td>0.271486</td>\n",
       "      <td>-1.472760</td>\n",
       "      <td>0.133487</td>\n",
       "      <td>-1.194806</td>\n",
       "      <td>...</td>\n",
       "      <td>-0.348298</td>\n",
       "      <td>-0.730992</td>\n",
       "      <td>0.389983</td>\n",
       "      <td>0.147543</td>\n",
       "      <td>-0.602468</td>\n",
       "      <td>-0.509758</td>\n",
       "      <td>0.019760</td>\n",
       "      <td>-0.032999</td>\n",
       "      <td>73.39</td>\n",
       "      <td>0</td>\n",
       "    </tr>\n",
       "    <tr>\n",
       "      <th>982</th>\n",
       "      <td>139257.0</td>\n",
       "      <td>0.037417</td>\n",
       "      <td>0.824223</td>\n",
       "      <td>0.291118</td>\n",
       "      <td>-0.576113</td>\n",
       "      <td>0.378306</td>\n",
       "      <td>-1.154432</td>\n",
       "      <td>0.963510</td>\n",
       "      <td>-0.179318</td>\n",
       "      <td>0.028858</td>\n",
       "      <td>...</td>\n",
       "      <td>-0.265576</td>\n",
       "      <td>-0.609252</td>\n",
       "      <td>0.073960</td>\n",
       "      <td>0.026618</td>\n",
       "      <td>-0.506809</td>\n",
       "      <td>0.139401</td>\n",
       "      <td>0.244357</td>\n",
       "      <td>0.096601</td>\n",
       "      <td>0.99</td>\n",
       "      <td>0</td>\n",
       "    </tr>\n",
       "    <tr>\n",
       "      <th>983</th>\n",
       "      <td>30003.0</td>\n",
       "      <td>-1.342081</td>\n",
       "      <td>1.000854</td>\n",
       "      <td>1.875593</td>\n",
       "      <td>-0.774800</td>\n",
       "      <td>0.347329</td>\n",
       "      <td>0.377771</td>\n",
       "      <td>0.756330</td>\n",
       "      <td>0.140343</td>\n",
       "      <td>0.280663</td>\n",
       "      <td>...</td>\n",
       "      <td>-0.371447</td>\n",
       "      <td>-0.532475</td>\n",
       "      <td>-0.222217</td>\n",
       "      <td>-0.294202</td>\n",
       "      <td>0.412967</td>\n",
       "      <td>0.240884</td>\n",
       "      <td>0.314859</td>\n",
       "      <td>0.001854</td>\n",
       "      <td>19.70</td>\n",
       "      <td>0</td>\n",
       "    </tr>\n",
       "  </tbody>\n",
       "</table>\n",
       "<p>984 rows × 31 columns</p>\n",
       "</div>"
      ],
      "text/plain": [
       "         Time        V1        V2        V3        V4        V5        V6  \\\n",
       "0       406.0 -2.312227  1.951992 -1.609851  3.997906 -0.522188 -1.426545   \n",
       "1       472.0 -3.043541 -3.157307  1.088463  2.288644  1.359805 -1.064823   \n",
       "2      4462.0 -2.303350  1.759247 -0.359745  2.330243 -0.821628 -0.075788   \n",
       "3      6986.0 -4.397974  1.358367 -2.592844  2.679787 -1.128131 -1.706536   \n",
       "4      7519.0  1.234235  3.019740 -4.304597  4.732795  3.624201 -1.357746   \n",
       "..        ...       ...       ...       ...       ...       ...       ...   \n",
       "979   83593.0  1.396748 -0.427093  0.295858 -0.775091 -0.763515 -0.776974   \n",
       "980  127018.0  1.868861 -0.532595 -1.476445 -0.055277  0.350819  0.182247   \n",
       "981  114810.0  2.139060 -1.689394 -0.707111 -1.755276 -1.234484  0.271486   \n",
       "982  139257.0  0.037417  0.824223  0.291118 -0.576113  0.378306 -1.154432   \n",
       "983   30003.0 -1.342081  1.000854  1.875593 -0.774800  0.347329  0.377771   \n",
       "\n",
       "           V7        V8        V9  ...       V21       V22       V23  \\\n",
       "0   -2.537387  1.391657 -2.770089  ...  0.517232 -0.035049 -0.465211   \n",
       "1    0.325574 -0.067794 -0.270953  ...  0.661696  0.435477  1.375966   \n",
       "2    0.562320 -0.399147 -0.238253  ... -0.294166 -0.932391  0.172726   \n",
       "3   -3.496197 -0.248778 -0.247768  ...  0.573574  0.176968 -0.436207   \n",
       "4    1.713445 -0.496358 -1.282858  ... -0.379068 -0.704181 -0.656805   \n",
       "..        ...       ...       ...  ...       ...       ...       ...   \n",
       "979 -0.391848 -0.246698 -0.943743  ... -0.143612 -0.550242  0.056129   \n",
       "980  0.029948 -0.044840  0.710349  ... -0.089976 -0.225355  0.073391   \n",
       "981 -1.472760  0.133487 -1.194806  ... -0.348298 -0.730992  0.389983   \n",
       "982  0.963510 -0.179318  0.028858  ... -0.265576 -0.609252  0.073960   \n",
       "983  0.756330  0.140343  0.280663  ... -0.371447 -0.532475 -0.222217   \n",
       "\n",
       "          V24       V25       V26       V27       V28  Amount  Class  \n",
       "0    0.320198  0.044519  0.177840  0.261145 -0.143276    0.00      1  \n",
       "1   -0.293803  0.279798 -0.145362 -0.252773  0.035764  529.00      1  \n",
       "2   -0.087330 -0.156114 -0.542628  0.039566 -0.153029  239.93      1  \n",
       "3   -0.053502  0.252405 -0.657488 -0.827136  0.849573   59.00      1  \n",
       "4   -1.632653  1.488901  0.566797 -0.010016  0.146793    1.00      1  \n",
       "..        ...       ...       ...       ...       ...     ...    ...  \n",
       "979 -0.118486  0.313276 -0.491565  0.007291  0.023371   34.55      0  \n",
       "980  0.075392 -0.006522 -0.110217 -0.042065 -0.047971   97.01      0  \n",
       "981  0.147543 -0.602468 -0.509758  0.019760 -0.032999   73.39      0  \n",
       "982  0.026618 -0.506809  0.139401  0.244357  0.096601    0.99      0  \n",
       "983 -0.294202  0.412967  0.240884  0.314859  0.001854   19.70      0  \n",
       "\n",
       "[984 rows x 31 columns]"
      ]
     },
     "execution_count": 12,
     "metadata": {},
     "output_type": "execute_result"
    }
   ],
   "source": [
    "data = fraud.append(non_fraud, ignore_index=True)\n",
    "data"
   ]
  },
  {
   "cell_type": "code",
   "execution_count": 13,
   "metadata": {},
   "outputs": [
    {
     "data": {
      "text/plain": [
       "1    492\n",
       "0    492\n",
       "Name: Class, dtype: int64"
      ]
     },
     "execution_count": 13,
     "metadata": {},
     "output_type": "execute_result"
    }
   ],
   "source": [
    "data['Class'].value_counts()"
   ]
  },
  {
   "cell_type": "code",
   "execution_count": 14,
   "metadata": {},
   "outputs": [],
   "source": [
    "X = data.drop('Class', axis = 1)\n",
    "y = data['Class']"
   ]
  },
  {
   "cell_type": "code",
   "execution_count": 20,
   "metadata": {},
   "outputs": [],
   "source": [
    "X_train, X_test, y_train, y_test = train_test_split(X, y, test_size=0.2, stratify=y, random_state=0)"
   ]
  },
  {
   "cell_type": "code",
   "execution_count": 21,
   "metadata": {},
   "outputs": [
    {
     "data": {
      "text/plain": [
       "((787, 30), (197, 30))"
      ]
     },
     "execution_count": 21,
     "metadata": {},
     "output_type": "execute_result"
    }
   ],
   "source": [
    "X_train.shape, X_test.shape"
   ]
  },
  {
   "cell_type": "code",
   "execution_count": 22,
   "metadata": {},
   "outputs": [],
   "source": [
    "scaler = StandardScaler()\n",
    "X_train = scaler.fit_transform(X_train)\n",
    "X_test = scaler.transform(X_test)"
   ]
  },
  {
   "cell_type": "code",
   "execution_count": 23,
   "metadata": {},
   "outputs": [],
   "source": [
    "y_train = y_train.to_numpy()\n",
    "y_test = y_test.to_numpy()"
   ]
  },
  {
   "cell_type": "code",
   "execution_count": 24,
   "metadata": {},
   "outputs": [
    {
     "data": {
      "text/plain": [
       "(787, 30)"
      ]
     },
     "execution_count": 24,
     "metadata": {},
     "output_type": "execute_result"
    }
   ],
   "source": [
    "X_train.shape"
   ]
  },
  {
   "cell_type": "code",
   "execution_count": 25,
   "metadata": {},
   "outputs": [],
   "source": [
    "X_train = X_train.reshape(X_train.shape[0], X_train.shape[1],1)\n",
    "X_test = X_test.reshape(X_test.shape[0], X_test.shape[1],1)"
   ]
  },
  {
   "cell_type": "code",
   "execution_count": 26,
   "metadata": {},
   "outputs": [
    {
     "data": {
      "text/plain": [
       "((787, 30, 1), (197, 30, 1))"
      ]
     },
     "execution_count": 26,
     "metadata": {},
     "output_type": "execute_result"
    }
   ],
   "source": [
    "X_train.shape, X_test.shape"
   ]
  },
  {
   "cell_type": "markdown",
   "metadata": {},
   "source": [
    "# Build CNN"
   ]
  },
  {
   "cell_type": "code",
   "execution_count": 35,
   "metadata": {},
   "outputs": [],
   "source": [
    "epochs = 20\n",
    "model = Sequential()\n",
    "model.add(Conv1D(filters=32, kernel_size=3, activation='relu', input_shape = X_train[0].shape))\n",
    "model.add(BatchNormalization())\n",
    "model.add(Dropout(0.2))\n",
    "\n",
    "model.add(Conv1D(filters=64, kernel_size=2, activation='relu'))\n",
    "model.add(BatchNormalization())\n",
    "model.add(Dropout(0.5))\n",
    "\n",
    "model.add(Flatten())\n",
    "model.add(Dense(64, activation='relu'))\n",
    "model.add(Dropout(0.5))\n",
    "\n",
    "model.add(Dense(1, activation='sigmoid'))"
   ]
  },
  {
   "cell_type": "code",
   "execution_count": 30,
   "metadata": {},
   "outputs": [
    {
     "name": "stdout",
     "output_type": "stream",
     "text": [
      "Model: \"sequential_1\"\n",
      "_________________________________________________________________\n",
      "Layer (type)                 Output Shape              Param #   \n",
      "=================================================================\n",
      "conv1d (Conv1D)              (None, 28, 32)            128       \n",
      "_________________________________________________________________\n",
      "batch_normalization (BatchNo (None, 28, 32)            128       \n",
      "_________________________________________________________________\n",
      "dropout (Dropout)            (None, 28, 32)            0         \n",
      "_________________________________________________________________\n",
      "conv1d_1 (Conv1D)            (None, 27, 64)            4160      \n",
      "_________________________________________________________________\n",
      "batch_normalization_1 (Batch (None, 27, 64)            256       \n",
      "_________________________________________________________________\n",
      "dropout_1 (Dropout)          (None, 27, 64)            0         \n",
      "_________________________________________________________________\n",
      "flatten (Flatten)            (None, 1728)              0         \n",
      "_________________________________________________________________\n",
      "dense (Dense)                (None, 64)                110656    \n",
      "_________________________________________________________________\n",
      "dropout_2 (Dropout)          (None, 64)                0         \n",
      "_________________________________________________________________\n",
      "dense_1 (Dense)              (None, 1)                 65        \n",
      "=================================================================\n",
      "Total params: 115,393\n",
      "Trainable params: 115,201\n",
      "Non-trainable params: 192\n",
      "_________________________________________________________________\n"
     ]
    }
   ],
   "source": [
    "model.summary()"
   ]
  },
  {
   "cell_type": "code",
   "execution_count": 37,
   "metadata": {},
   "outputs": [],
   "source": [
    "from tensorflow.keras.optimizers import Adam\n",
    "model.compile(optimizer=Adam(lr=0.0001), loss = 'binary_crossentropy', metrics = ['accuracy'])"
   ]
  },
  {
   "cell_type": "code",
   "execution_count": 38,
   "metadata": {},
   "outputs": [
    {
     "name": "stdout",
     "output_type": "stream",
     "text": [
      "Train on 787 samples, validate on 197 samples\n",
      "Epoch 1/20\n",
      "787/787 [==============================] - 4s 5ms/sample - loss: 0.8118 - accuracy: 0.6277 - val_loss: 0.6222 - val_accuracy: 0.8832\n",
      "Epoch 2/20\n",
      "787/787 [==============================] - 0s 373us/sample - loss: 0.4998 - accuracy: 0.7992 - val_loss: 0.5732 - val_accuracy: 0.8680\n",
      "Epoch 3/20\n",
      "787/787 [==============================] - 0s 485us/sample - loss: 0.4146 - accuracy: 0.8399 - val_loss: 0.5353 - val_accuracy: 0.8680\n",
      "Epoch 4/20\n",
      "787/787 [==============================] - 0s 511us/sample - loss: 0.3835 - accuracy: 0.8717 - val_loss: 0.5038 - val_accuracy: 0.8832\n",
      "Epoch 5/20\n",
      "787/787 [==============================] - 0s 427us/sample - loss: 0.3499 - accuracy: 0.8666 - val_loss: 0.4721 - val_accuracy: 0.9036\n",
      "Epoch 6/20\n",
      "787/787 [==============================] - 1s 643us/sample - loss: 0.2973 - accuracy: 0.8945 - val_loss: 0.4388 - val_accuracy: 0.9086\n",
      "Epoch 7/20\n",
      "787/787 [==============================] - 0s 525us/sample - loss: 0.2502 - accuracy: 0.9085 - val_loss: 0.4080 - val_accuracy: 0.9137\n",
      "Epoch 8/20\n",
      "787/787 [==============================] - 0s 392us/sample - loss: 0.2505 - accuracy: 0.9187 - val_loss: 0.3721 - val_accuracy: 0.9188\n",
      "Epoch 9/20\n",
      "787/787 [==============================] - 0s 350us/sample - loss: 0.2663 - accuracy: 0.9085 - val_loss: 0.3403 - val_accuracy: 0.9188\n",
      "Epoch 10/20\n",
      "787/787 [==============================] - 0s 379us/sample - loss: 0.2949 - accuracy: 0.8983 - val_loss: 0.3099 - val_accuracy: 0.9188\n",
      "Epoch 11/20\n",
      "787/787 [==============================] - 0s 421us/sample - loss: 0.2331 - accuracy: 0.9136 - val_loss: 0.2825 - val_accuracy: 0.9188\n",
      "Epoch 12/20\n",
      "787/787 [==============================] - 0s 477us/sample - loss: 0.2231 - accuracy: 0.9212 - val_loss: 0.2527 - val_accuracy: 0.9188\n",
      "Epoch 13/20\n",
      "787/787 [==============================] - 0s 368us/sample - loss: 0.2036 - accuracy: 0.9250 - val_loss: 0.2349 - val_accuracy: 0.9188\n",
      "Epoch 14/20\n",
      "787/787 [==============================] - 0s 517us/sample - loss: 0.2055 - accuracy: 0.9225 - val_loss: 0.2196 - val_accuracy: 0.9188\n",
      "Epoch 15/20\n",
      "787/787 [==============================] - 0s 575us/sample - loss: 0.1985 - accuracy: 0.9352 - val_loss: 0.2077 - val_accuracy: 0.9188\n",
      "Epoch 16/20\n",
      "787/787 [==============================] - 0s 541us/sample - loss: 0.1954 - accuracy: 0.9314 - val_loss: 0.1998 - val_accuracy: 0.9188\n",
      "Epoch 17/20\n",
      "787/787 [==============================] - 0s 366us/sample - loss: 0.2150 - accuracy: 0.9288 - val_loss: 0.1953 - val_accuracy: 0.9239\n",
      "Epoch 18/20\n",
      "787/787 [==============================] - 1s 644us/sample - loss: 0.1973 - accuracy: 0.9403 - val_loss: 0.1907 - val_accuracy: 0.9188\n",
      "Epoch 19/20\n",
      "787/787 [==============================] - 0s 555us/sample - loss: 0.1922 - accuracy: 0.9301 - val_loss: 0.1887 - val_accuracy: 0.9188\n",
      "Epoch 20/20\n",
      "787/787 [==============================] - 0s 326us/sample - loss: 0.1848 - accuracy: 0.9263 - val_loss: 0.1868 - val_accuracy: 0.9188\n"
     ]
    }
   ],
   "source": [
    "history =  model.fit(X_train, y_train, epochs=epochs, validation_data=(X_test, y_test), verbose=1)"
   ]
  },
  {
   "cell_type": "code",
   "execution_count": 41,
   "metadata": {},
   "outputs": [
    {
     "data": {
      "image/png": "[encoded data removed]",
      "text/plain": [
       "<Figure size 1440x432 with 2 Axes>"
      ]
     },
     "metadata": {
      "needs_background": "light"
     },
     "output_type": "display_data"
    }
   ],
   "source": [
    "plt.figure(figsize=(20,6))\n",
    "plt.subplot(121)\n",
    "epoch_range = range(1,21)\n",
    "plt.plot(epoch_range,history.history['accuracy'])\n",
    "plt.plot(epoch_range, history.history['val_accuracy'])\n",
    "plt.title('Model Accuracy')\n",
    "plt.ylabel('Accuracy')\n",
    "plt.xlabel('Epoch')\n",
    "plt.legend(['Train','Val'], loc='upper left')\n",
    "\n",
    "plt.subplot(122)\n",
    "plt.plot(epoch_range, history.history['loss'])\n",
    "plt.plot(epoch_range, history.history['val_loss'])\n",
    "plt.title('Model Loss')\n",
    "plt.ylabel('Loss')\n",
    "plt.xlabel('Epoch')\n",
    "plt.legend(['Train','Val'], loc='upper right')\n",
    "plt.show()"
   ]
  },
  {
   "cell_type": "markdown",
   "metadata": {},
   "source": [
    "# Adding Maxpool"
   ]
  },
  {
   "cell_type": "code",
   "execution_count": 42,
   "metadata": {},
   "outputs": [],
   "source": [
    "epochs = 50\n",
    "model = Sequential()\n",
    "model.add(Conv1D(filters=32, kernel_size=3, activation='relu', input_shape = X_train[0].shape))\n",
    "model.add(BatchNormalization())\n",
    "model.add(MaxPool1D(2))\n",
    "model.add(Dropout(0.2))\n",
    "\n",
    "model.add(Conv1D(filters=64, kernel_size=2, activation='relu'))\n",
    "model.add(BatchNormalization())\n",
    "model.add(MaxPool1D(2))\n",
    "model.add(Dropout(0.5))\n",
    "\n",
    "model.add(Flatten())\n",
    "model.add(Dense(64, activation='relu'))\n",
    "model.add(Dropout(0.5))\n",
    "\n",
    "model.add(Dense(1, activation='sigmoid'))"
   ]
  },
  {
   "cell_type": "code",
   "execution_count": 43,
   "metadata": {},
   "outputs": [
    {
     "name": "stdout",
     "output_type": "stream",
     "text": [
      "Train on 787 samples, validate on 197 samples\n",
      "Epoch 1/50\n",
      "787/787 [==============================] - 2s 3ms/sample - loss: 1.3475 - accuracy: 0.5349 - val_loss: 0.6537 - val_accuracy: 0.5178\n",
      "Epoch 2/50\n",
      "787/787 [==============================] - 0s 472us/sample - loss: 1.0087 - accuracy: 0.5743 - val_loss: 0.6335 - val_accuracy: 0.5482\n",
      "Epoch 3/50\n",
      "787/787 [==============================] - 0s 366us/sample - loss: 0.7188 - accuracy: 0.6709 - val_loss: 0.6112 - val_accuracy: 0.5939\n",
      "Epoch 4/50\n",
      "787/787 [==============================] - 0s 286us/sample - loss: 0.6302 - accuracy: 0.7230 - val_loss: 0.5842 - val_accuracy: 0.6853\n",
      "Epoch 5/50\n",
      "787/787 [==============================] - 0s 315us/sample - loss: 0.4876 - accuracy: 0.7751 - val_loss: 0.5508 - val_accuracy: 0.8274\n",
      "Epoch 6/50\n",
      "787/787 [==============================] - 0s 350us/sample - loss: 0.4765 - accuracy: 0.7814 - val_loss: 0.5155 - val_accuracy: 0.8934\n",
      "Epoch 7/50\n",
      "787/787 [==============================] - 0s 270us/sample - loss: 0.4479 - accuracy: 0.8145 - val_loss: 0.4785 - val_accuracy: 0.9036\n",
      "Epoch 8/50\n",
      "787/787 [==============================] - 0s 302us/sample - loss: 0.4287 - accuracy: 0.8285 - val_loss: 0.4417 - val_accuracy: 0.9137\n",
      "Epoch 9/50\n",
      "787/787 [==============================] - 0s 333us/sample - loss: 0.3782 - accuracy: 0.8539 - val_loss: 0.4054 - val_accuracy: 0.9137\n",
      "Epoch 10/50\n",
      "787/787 [==============================] - 0s 479us/sample - loss: 0.3600 - accuracy: 0.8615 - val_loss: 0.3717 - val_accuracy: 0.9036\n",
      "Epoch 11/50\n",
      "787/787 [==============================] - 0s 418us/sample - loss: 0.3764 - accuracy: 0.8577 - val_loss: 0.3423 - val_accuracy: 0.9036\n",
      "Epoch 12/50\n",
      "787/787 [==============================] - 0s 293us/sample - loss: 0.3860 - accuracy: 0.8539 - val_loss: 0.3188 - val_accuracy: 0.8985\n",
      "Epoch 13/50\n",
      "787/787 [==============================] - 0s 591us/sample - loss: 0.3147 - accuracy: 0.8717 - val_loss: 0.2999 - val_accuracy: 0.8985\n",
      "Epoch 14/50\n",
      "787/787 [==============================] - 0s 346us/sample - loss: 0.3852 - accuracy: 0.8526 - val_loss: 0.2836 - val_accuracy: 0.8985\n",
      "Epoch 15/50\n",
      "787/787 [==============================] - 0s 350us/sample - loss: 0.3535 - accuracy: 0.8717 - val_loss: 0.2724 - val_accuracy: 0.8985\n",
      "Epoch 16/50\n",
      "787/787 [==============================] - 0s 442us/sample - loss: 0.3331 - accuracy: 0.8806 - val_loss: 0.2654 - val_accuracy: 0.8985\n",
      "Epoch 17/50\n",
      "787/787 [==============================] - 0s 481us/sample - loss: 0.3451 - accuracy: 0.8755 - val_loss: 0.2600 - val_accuracy: 0.8985\n",
      "Epoch 18/50\n",
      "787/787 [==============================] - 0s 265us/sample - loss: 0.3115 - accuracy: 0.8895 - val_loss: 0.2562 - val_accuracy: 0.8985\n",
      "Epoch 19/50\n",
      "787/787 [==============================] - 0s 278us/sample - loss: 0.2930 - accuracy: 0.8869 - val_loss: 0.2540 - val_accuracy: 0.8985\n",
      "Epoch 20/50\n",
      "787/787 [==============================] - 0s 271us/sample - loss: 0.3179 - accuracy: 0.8869 - val_loss: 0.2532 - val_accuracy: 0.9036\n",
      "Epoch 21/50\n",
      "787/787 [==============================] - 0s 274us/sample - loss: 0.2848 - accuracy: 0.8895 - val_loss: 0.2537 - val_accuracy: 0.9036\n",
      "Epoch 22/50\n",
      "787/787 [==============================] - 0s 285us/sample - loss: 0.2565 - accuracy: 0.9072 - val_loss: 0.2530 - val_accuracy: 0.9036\n",
      "Epoch 23/50\n",
      "787/787 [==============================] - 0s 275us/sample - loss: 0.2798 - accuracy: 0.8895 - val_loss: 0.2526 - val_accuracy: 0.9036\n",
      "Epoch 24/50\n",
      "787/787 [==============================] - 0s 285us/sample - loss: 0.2998 - accuracy: 0.8920 - val_loss: 0.2505 - val_accuracy: 0.9086\n",
      "Epoch 25/50\n",
      "787/787 [==============================] - 0s 279us/sample - loss: 0.2858 - accuracy: 0.8920 - val_loss: 0.2517 - val_accuracy: 0.9086\n",
      "Epoch 26/50\n",
      "787/787 [==============================] - 0s 268us/sample - loss: 0.2977 - accuracy: 0.8818 - val_loss: 0.2525 - val_accuracy: 0.9086\n",
      "Epoch 27/50\n",
      "787/787 [==============================] - 0s 322us/sample - loss: 0.2963 - accuracy: 0.9060 - val_loss: 0.2526 - val_accuracy: 0.9086\n",
      "Epoch 28/50\n",
      "787/787 [==============================] - 0s 286us/sample - loss: 0.2838 - accuracy: 0.9047 - val_loss: 0.2527 - val_accuracy: 0.9086\n",
      "Epoch 29/50\n",
      "787/787 [==============================] - 0s 349us/sample - loss: 0.2693 - accuracy: 0.9111 - val_loss: 0.2517 - val_accuracy: 0.9086\n",
      "Epoch 30/50\n",
      "787/787 [==============================] - 0s 285us/sample - loss: 0.2681 - accuracy: 0.9047 - val_loss: 0.2464 - val_accuracy: 0.9086\n",
      "Epoch 31/50\n",
      "787/787 [==============================] - 0s 368us/sample - loss: 0.2512 - accuracy: 0.9085 - val_loss: 0.2491 - val_accuracy: 0.9086\n",
      "Epoch 32/50\n",
      "787/787 [==============================] - 0s 276us/sample - loss: 0.2570 - accuracy: 0.9047 - val_loss: 0.2497 - val_accuracy: 0.9086\n",
      "Epoch 33/50\n",
      "787/787 [==============================] - 0s 283us/sample - loss: 0.2438 - accuracy: 0.9187 - val_loss: 0.2479 - val_accuracy: 0.9086\n",
      "Epoch 34/50\n",
      "787/787 [==============================] - 0s 275us/sample - loss: 0.2593 - accuracy: 0.9123 - val_loss: 0.2475 - val_accuracy: 0.9086\n",
      "Epoch 35/50\n",
      "787/787 [==============================] - 0s 266us/sample - loss: 0.2187 - accuracy: 0.9263 - val_loss: 0.2469 - val_accuracy: 0.9086\n",
      "Epoch 36/50\n",
      "787/787 [==============================] - 0s 269us/sample - loss: 0.2536 - accuracy: 0.9047 - val_loss: 0.2473 - val_accuracy: 0.9086\n",
      "Epoch 37/50\n",
      "787/787 [==============================] - 0s 280us/sample - loss: 0.2361 - accuracy: 0.9174 - val_loss: 0.2470 - val_accuracy: 0.9086\n",
      "Epoch 38/50\n",
      "787/787 [==============================] - 0s 266us/sample - loss: 0.2246 - accuracy: 0.9263 - val_loss: 0.2450 - val_accuracy: 0.9086\n",
      "Epoch 39/50\n",
      "787/787 [==============================] - 0s 279us/sample - loss: 0.2368 - accuracy: 0.9174 - val_loss: 0.2449 - val_accuracy: 0.9086\n",
      "Epoch 40/50\n",
      "787/787 [==============================] - 0s 290us/sample - loss: 0.2158 - accuracy: 0.9199 - val_loss: 0.2448 - val_accuracy: 0.9137\n",
      "Epoch 41/50\n",
      "787/787 [==============================] - 0s 270us/sample - loss: 0.2308 - accuracy: 0.9187 - val_loss: 0.2454 - val_accuracy: 0.9137\n",
      "Epoch 42/50\n",
      "787/787 [==============================] - 0s 286us/sample - loss: 0.2033 - accuracy: 0.9250 - val_loss: 0.2466 - val_accuracy: 0.9137\n",
      "Epoch 43/50\n",
      "787/787 [==============================] - 0s 274us/sample - loss: 0.2301 - accuracy: 0.9263 - val_loss: 0.2469 - val_accuracy: 0.9137\n",
      "Epoch 44/50\n",
      "787/787 [==============================] - 0s 418us/sample - loss: 0.2335 - accuracy: 0.9149 - val_loss: 0.2475 - val_accuracy: 0.9137\n",
      "Epoch 45/50\n",
      "787/787 [==============================] - 0s 527us/sample - loss: 0.2501 - accuracy: 0.9085 - val_loss: 0.2451 - val_accuracy: 0.9137\n",
      "Epoch 46/50\n",
      "787/787 [==============================] - 0s 276us/sample - loss: 0.2130 - accuracy: 0.9174 - val_loss: 0.2423 - val_accuracy: 0.9137\n",
      "Epoch 47/50\n",
      "787/787 [==============================] - 0s 279us/sample - loss: 0.2133 - accuracy: 0.9301 - val_loss: 0.2416 - val_accuracy: 0.9137\n",
      "Epoch 48/50\n",
      "787/787 [==============================] - 0s 283us/sample - loss: 0.2433 - accuracy: 0.9060 - val_loss: 0.2387 - val_accuracy: 0.9137\n",
      "Epoch 49/50\n",
      "787/787 [==============================] - 0s 281us/sample - loss: 0.2304 - accuracy: 0.9149 - val_loss: 0.2384 - val_accuracy: 0.9137\n",
      "Epoch 50/50\n",
      "787/787 [==============================] - 0s 299us/sample - loss: 0.2113 - accuracy: 0.9187 - val_loss: 0.2390 - val_accuracy: 0.9188\n"
     ]
    }
   ],
   "source": [
    "model.compile(optimizer=Adam(lr=0.0001), loss = 'binary_crossentropy', metrics=['accuracy'])\n",
    "history = model.fit(X_train, y_train, epochs=epochs, validation_data=(X_test, y_test), verbose=1)"
   ]
  },
  {
   "cell_type": "code",
   "execution_count": 44,
   "metadata": {},
   "outputs": [
    {
     "data": {
      "image/png": "[encoded data removed]",
      "text/plain": [
       "<Figure size 1440x432 with 2 Axes>"
      ]
     },
     "metadata": {
      "needs_background": "light"
     },
     "output_type": "display_data"
    }
   ],
   "source": [
    "plt.figure(figsize=(20,6))\n",
    "plt.subplot(121)\n",
    "epoch_range = range(1,51)\n",
    "plt.plot(epoch_range,history.history['accuracy'])\n",
    "plt.plot(epoch_range, history.history['val_accuracy'])\n",
    "plt.title('Model Accuracy')\n",
    "plt.ylabel('Accuracy')\n",
    "plt.xlabel('Epoch')\n",
    "plt.legend(['Train','Val'], loc='upper left')\n",
    "\n",
    "plt.subplot(122)\n",
    "plt.plot(epoch_range, history.history['loss'])\n",
    "plt.plot(epoch_range, history.history['val_loss'])\n",
    "plt.title('Model Loss')\n",
    "plt.ylabel('Loss')\n",
    "plt.xlabel('Epoch')\n",
    "plt.legend(['Train','Val'], loc='upper right')\n",
    "plt.show()"
   ]
  },
  {
   "cell_type": "code",
   "execution_count": null,
   "metadata": {},
   "outputs": [],
   "source": []
  }
 ],
 "metadata": {
  "kernelspec": {
   "display_name": "Python 3",
   "language": "python",
   "name": "python3"
  },
  "language_info": {
   "codemirror_mode": {
    "name": "ipython",
    "version": 3
   },
   "file_extension": ".py",
   "mimetype": "text/x-python",
   "name": "python",
   "nbconvert_exporter": "python",
   "pygments_lexer": "ipython3",
   "version": "3.7.6"
  }
 },
 "nbformat": 4,
 "nbformat_minor": 2
}
