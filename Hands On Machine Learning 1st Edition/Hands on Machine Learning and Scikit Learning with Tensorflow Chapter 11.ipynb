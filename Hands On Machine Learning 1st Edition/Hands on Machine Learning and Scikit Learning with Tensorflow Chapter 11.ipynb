{
 "cells": [
  {
   "cell_type": "code",
   "execution_count": 1,
   "metadata": {},
   "outputs": [],
   "source": [
    "from __future__ import absolute_import, division, print_function, unicode_literals\n",
    "import tensorflow as tf\n",
    "from tensorflow import keras\n",
    "from tensorflow.keras import layers"
   ]
  },
  {
   "cell_type": "markdown",
   "metadata": {},
   "source": [
    "# Vanishing OR Exploding Gradients Problem - Saturating means no achievable increase\n",
    "- Backpropagation uses these gradients to update each parameter with a Gradient Descent step.\n",
    "- Gradients often get smaller and smaller as the algorithm progresses down to the lower layers leaving lower connection layers virtually unchanged hence the training never converges. this is called Vanishing gradients.\n",
    "- Exploding gradients is when the gradients can grow bigger and bigger, so many layers get insanely large weight updates and the algorithm diverges."
   ]
  },
  {
   "cell_type": "code",
   "execution_count": 2,
   "metadata": {},
   "outputs": [],
   "source": [
    "def logit(z):\n",
    "    return 1 /  (1 + np.exp(-z))"
   ]
  },
  {
   "cell_type": "code",
   "execution_count": 3,
   "metadata": {},
   "outputs": [
    {
     "data": {
      "image/png": "[encoded data removed]",
      "text/plain": [
       "<Figure size 720x360 with 1 Axes>"
      ]
     },
     "metadata": {
      "needs_background": "light"
     },
     "output_type": "display_data"
    }
   ],
   "source": [
    "import numpy as np\n",
    "import matplotlib.pyplot as plt\n",
    "\n",
    "z = np.linspace(-5,5,200)\n",
    "\n",
    "plt.figure(figsize=(10,5))\n",
    "plt.plot([-5,5],[0,0], 'k-')\n",
    "plt.plot([-5,5],[1,1], 'k--')\n",
    "plt.plot([0,0], [-0.2,1.2], 'k-')\n",
    "plt.plot([-5,5],[-3/4,7/4], 'g--')\n",
    "plt.plot (z, logit(z),'b-', linewidth=2)\n",
    "props = dict(facecolor='black', shrink=0.1)\n",
    "plt.annotate('Saturating',xytext=(3.5,0.7), xy=(5,1), arrowprops=props, fontsize=14, ha='center')\n",
    "plt.annotate('Saturating', xytext=(-3.5, 0.3), xy=(-5,0),arrowprops=props, fontsize=14, ha='center')\n",
    "plt.annotate('Linear', xytext=(2,0.2), xy=(0,0.5), arrowprops=props, fontsize=14, ha='center')\n",
    "plt.grid(True)\n",
    "plt.title('Sigmoid Activation Function', fontsize=14)\n",
    "plt.axis([-5,5,-0.2,1.2])\n",
    "plt.show()"
   ]
  },
  {
   "cell_type": "markdown",
   "metadata": {},
   "source": [
    "# Xavier  Initialization and He Initialization\n",
    "- Glorot and Bengio propose a way to significantly alleviate this problem. We need the signal to flow properly in both directions: in the forward direction when making predictions, and in the reverse direction when backpropagating gradients. \n",
    "- We need the variance of the outputs of each layer to be equal to the variance of its inputs and we also need the gradients to have equal variance before and after flowing through a layer in the reverse direction.\n",
    "- The connection weights must be initialized randomly,Xavier initialization uses a uniform distribution.\n",
    "- He Initialization uses a varaince scaling initializer which only considers \"FAN-IN\" and not the average between \"FAN-IN\" and \"FAN-OUT\" like in Xavier initialization but you can change this by setting the argument mode=\"FAN_AVG\"."
   ]
  },
  {
   "cell_type": "code",
   "execution_count": 4,
   "metadata": {},
   "outputs": [],
   "source": [
    "def reset_graph(seed=42):\n",
    "    tf.compat.v1.reset_default_graph()\n",
    "    np.random.seed(seed)"
   ]
  },
  {
   "cell_type": "code",
   "execution_count": 5,
   "metadata": {},
   "outputs": [],
   "source": [
    "reset_graph()\n",
    "\n",
    "n_inputs = 28 * 28\n",
    "n_hidden1 = 300\n",
    "n_hidden2 = 100\n",
    "n_outputs = 10"
   ]
  },
  {
   "cell_type": "code",
   "execution_count": 6,
   "metadata": {},
   "outputs": [],
   "source": [
    "inputs = keras.Input(shape=(784,), name='digits')\n",
    "x = layers.Dense(300, kernel_initializer='glorot_uniform', bias_initializer='zeros',activation='relu', name='hidden_1')(inputs)\n",
    "x = layers.Dense(100, kernel_initializer='glorot_uniform',bias_initializer='zeros',activation='relu', name='hidden_2')(x)\n",
    "outputs = layers.Dense(10, name='predictions')(x)\n",
    "\n",
    "model = keras.Model(inputs=inputs, outputs=outputs)"
   ]
  },
  {
   "cell_type": "code",
   "execution_count": 7,
   "metadata": {},
   "outputs": [],
   "source": [
    "(x_train, y_train), (x_test, y_test) = keras.datasets.mnist.load_data()\n",
    "\n",
    "# Preprocess the data using Numpy arrays\n",
    "x_train = x_train.reshape(60000, 784).astype('float32') /  255\n",
    "x_test = x_test.reshape(10000, 784).astype('float32') / 255\n",
    "\n",
    "y_train = y_train.astype('float32')\n",
    "y_test = y_test.astype('float32')"
   ]
  },
  {
   "cell_type": "code",
   "execution_count": 8,
   "metadata": {},
   "outputs": [],
   "source": [
    "model.compile(optimizer=keras.optimizers.SGD(learning_rate=0.01, momentum=0.9),\n",
    "             loss=keras.losses.SparseCategoricalCrossentropy(from_logits=True),\n",
    "             metrics = ['sparse_categorical_accuracy'])"
   ]
  },
  {
   "cell_type": "code",
   "execution_count": 9,
   "metadata": {},
   "outputs": [
    {
     "name": "stdout",
     "output_type": "stream",
     "text": [
      "Fit model on training data\n",
      "Train on 48000 samples, validate on 12000 samples\n",
      "Epoch 1/3\n",
      "48000/48000 [==============================] - 10s 198us/sample - loss: 0.3477 - sparse_categorical_accuracy: 0.9013 - val_loss: 0.1754 - val_sparse_categorical_accuracy: 0.9477\n",
      "Epoch 2/3\n",
      "48000/48000 [==============================] - 6s 130us/sample - loss: 0.1462 - sparse_categorical_accuracy: 0.9572 - val_loss: 0.1280 - val_sparse_categorical_accuracy: 0.9622\n",
      "Epoch 3/3\n",
      "48000/48000 [==============================] - 5s 107us/sample - loss: 0.1002 - sparse_categorical_accuracy: 0.9707 - val_loss: 0.1026 - val_sparse_categorical_accuracy: 0.9695\n"
     ]
    }
   ],
   "source": [
    "print('Fit model on training data')\n",
    "history = model.fit(x_train, y_train, batch_size=50, epochs=3, validation_split=0.2)"
   ]
  },
  {
   "cell_type": "code",
   "execution_count": 10,
   "metadata": {},
   "outputs": [
    {
     "name": "stdout",
     "output_type": "stream",
     "text": [
      "\n",
      "History Dict:  {'loss': [0.3477322323053765, 0.14623250887185957, 0.10016569173846317], 'sparse_categorical_accuracy': [0.90129167, 0.95720834, 0.97075], 'val_loss': [0.1753580312865476, 0.12802170872261437, 0.10263044861785602], 'val_sparse_categorical_accuracy': [0.94775, 0.96216667, 0.9695]}\n"
     ]
    }
   ],
   "source": [
    "print('\\nHistory Dict: ', history.history)"
   ]
  },
  {
   "cell_type": "code",
   "execution_count": 11,
   "metadata": {},
   "outputs": [
    {
     "name": "stdout",
     "output_type": "stream",
     "text": [
      "\n",
      "Evaluate on test data\n",
      "10000/10000 [==============================] - 1s 108us/sample - loss: 0.1027 - sparse_categorical_accuracy: 0.9672\n"
     ]
    }
   ],
   "source": [
    "print('\\nEvaluate on test data')\n",
    "results = model.evaluate(x_test, y_test)"
   ]
  },
  {
   "cell_type": "markdown",
   "metadata": {},
   "source": [
    "# He Initialization using Variance Scaling Initializer"
   ]
  },
  {
   "cell_type": "code",
   "execution_count": 12,
   "metadata": {},
   "outputs": [],
   "source": [
    "from tensorflow.keras import initializers\n",
    "reset_graph()\n",
    "he_init = tf.keras.initializers.VarianceScaling(scale=1.0, mode='fan_in', distribution='normal', seed=None)\n",
    "model = tf.keras.models.Sequential([\n",
    "  tf.keras.layers.Dense(units = 300, kernel_initializer=he_init, activation = 'relu',input_shape = (784,)),\n",
    "  tf.keras.layers.Dense(units = 100, kernel_initializer=he_init, activation = 'relu'), \n",
    "  tf.keras.layers.Dense(units = 10, name='predictions') \n",
    "])"
   ]
  },
  {
   "cell_type": "code",
   "execution_count": 13,
   "metadata": {},
   "outputs": [],
   "source": [
    "model.compile(optimizer=keras.optimizers.SGD(learning_rate=0.01, momentum=0.9),\n",
    "             loss=keras.losses.SparseCategoricalCrossentropy(from_logits=True),\n",
    "             metrics=['sparse_categorical_accuracy'])"
   ]
  },
  {
   "cell_type": "code",
   "execution_count": 14,
   "metadata": {},
   "outputs": [
    {
     "name": "stdout",
     "output_type": "stream",
     "text": [
      "Fit model on training data\n",
      "Train on 48000 samples, validate on 12000 samples\n",
      "Epoch 1/3\n",
      "48000/48000 [==============================] - 6s 117us/sample - loss: 0.3651 - sparse_categorical_accuracy: 0.8934 - val_loss: 0.1988 - val_sparse_categorical_accuracy: 0.9423\n",
      "Epoch 2/3\n",
      "48000/48000 [==============================] - 5s 95us/sample - loss: 0.1483 - sparse_categorical_accuracy: 0.9568 - val_loss: 0.1220 - val_sparse_categorical_accuracy: 0.9657\n",
      "Epoch 3/3\n",
      "48000/48000 [==============================] - 5s 97us/sample - loss: 0.1022 - sparse_categorical_accuracy: 0.9696 - val_loss: 0.1053 - val_sparse_categorical_accuracy: 0.9692\n"
     ]
    }
   ],
   "source": [
    "print('Fit model on training data')\n",
    "history = model.fit(x_train, y_train, batch_size=50,epochs=3, validation_split=0.2)"
   ]
  },
  {
   "cell_type": "code",
   "execution_count": 15,
   "metadata": {},
   "outputs": [
    {
     "name": "stdout",
     "output_type": "stream",
     "text": [
      "\n",
      "History Dict:  {'loss': [0.36513318088448915, 0.14827217614122976, 0.10217837591674955], 'sparse_categorical_accuracy': [0.89339584, 0.95677084, 0.96958333], 'val_loss': [0.19882921108122295, 0.12196524912821284, 0.10531205032408858], 'val_sparse_categorical_accuracy': [0.94233334, 0.96566665, 0.9691667]}\n"
     ]
    }
   ],
   "source": [
    "print('\\nHistory Dict: ', history.history)"
   ]
  },
  {
   "cell_type": "code",
   "execution_count": 16,
   "metadata": {},
   "outputs": [
    {
     "name": "stdout",
     "output_type": "stream",
     "text": [
      "Evaluate on the test data\n",
      "10000/10000 [==============================] - 1s 100us/sample - loss: 0.0993 - sparse_categorical_accuracy: 0.9702\n"
     ]
    }
   ],
   "source": [
    "print('Evaluate on the test data')\n",
    "results = model.evaluate(x_test, y_test)"
   ]
  },
  {
   "cell_type": "markdown",
   "metadata": {},
   "source": [
    "# Nonsaturating Activation Functions\n",
    "- The ReLU activation function is not perfect. It suffers from a problem known as the dying ReLUs: during training, some neurons effectively die meaning they stop outputting anything other than 0.\n",
    "\n",
    "## Leaky ReLu"
   ]
  },
  {
   "cell_type": "code",
   "execution_count": 17,
   "metadata": {},
   "outputs": [],
   "source": [
    "# Alpha defines how much a hyperparameter leaks.\n",
    "def leaky_relu(z, alpha=0.01):\n",
    "    return np.maximum(alpha*z,z)"
   ]
  },
  {
   "cell_type": "code",
   "execution_count": 18,
   "metadata": {},
   "outputs": [
    {
     "data": {
      "image/png": "[encoded data removed]",
      "text/plain": [
       "<Figure size 720x360 with 1 Axes>"
      ]
     },
     "metadata": {
      "needs_background": "light"
     },
     "output_type": "display_data"
    }
   ],
   "source": [
    "plt.figure(figsize=(10,5))\n",
    "plt.plot(z, leaky_relu(z, 0.05), 'b-', linewidth=2)\n",
    "plt.plot([-5,5],[0,0], 'k-')\n",
    "plt.plot([0,0],[-0.5,4.2], 'k-')\n",
    "plt.grid(True)\n",
    "props = dict(facecolor='black', shrink=0.1)\n",
    "plt.annotate('leak', xytext=(-3.5, 0.5), xy=(-5,-0.2), arrowprops=props, fontsize=14, ha='center')\n",
    "plt.title('Leaky Relu Activation Function', fontsize=14)\n",
    "plt.axis([-5,5, -0.5,4.2])\n",
    "plt.show()"
   ]
  },
  {
   "cell_type": "code",
   "execution_count": 19,
   "metadata": {},
   "outputs": [],
   "source": [
    "reset_graph()\n",
    "LR = tf.keras.layers.LeakyReLU(alpha=0.01)\n",
    "model = tf.keras.models.Sequential([\n",
    "  tf.keras.layers.Dense(units = 300, kernel_initializer=he_init, activation = LR,input_shape = (784,)),\n",
    "  tf.keras.layers.Dense(units = 100, kernel_initializer=he_init, activation = LR), \n",
    "  tf.keras.layers.Dense(units = 10, name='predictions') \n",
    "])"
   ]
  },
  {
   "cell_type": "code",
   "execution_count": 20,
   "metadata": {},
   "outputs": [],
   "source": [
    "model.compile(optimizer=keras.optimizers.SGD(learning_rate=0.01, momentum=0.9),\n",
    "             loss=keras.losses.SparseCategoricalCrossentropy(from_logits=True),#  Used to get integer targets.\n",
    "             metrics=['sparse_categorical_accuracy'])"
   ]
  },
  {
   "cell_type": "code",
   "execution_count": 21,
   "metadata": {},
   "outputs": [
    {
     "name": "stdout",
     "output_type": "stream",
     "text": [
      "\n",
      "Fit model on training data\n",
      "Train on 48000 samples, validate on 12000 samples\n",
      "Epoch 1/3\n",
      "48000/48000 [==============================] - 5s 110us/sample - loss: 0.3737 - sparse_categorical_accuracy: 0.8932 - val_loss: 0.1793 - val_sparse_categorical_accuracy: 0.9497\n",
      "Epoch 2/3\n",
      "48000/48000 [==============================] - 5s 102us/sample - loss: 0.1567 - sparse_categorical_accuracy: 0.9529 - val_loss: 0.1272 - val_sparse_categorical_accuracy: 0.9622\n",
      "Epoch 3/3\n",
      "48000/48000 [==============================] - 5s 100us/sample - loss: 0.1041 - sparse_categorical_accuracy: 0.9687 - val_loss: 0.1022 - val_sparse_categorical_accuracy: 0.9701\n"
     ]
    },
    {
     "data": {
      "text/plain": [
       "<tensorflow.python.keras.callbacks.History at 0x22bb105c148>"
      ]
     },
     "execution_count": 21,
     "metadata": {},
     "output_type": "execute_result"
    }
   ],
   "source": [
    "print('\\nFit model on training data')\n",
    "model.fit(x_train, y_train, batch_size=50, epochs=3, validation_split=0.2)"
   ]
  },
  {
   "cell_type": "code",
   "execution_count": 22,
   "metadata": {},
   "outputs": [
    {
     "name": "stdout",
     "output_type": "stream",
     "text": [
      "\\History Dict:  {'loss': [0.36513318088448915, 0.14827217614122976, 0.10217837591674955], 'sparse_categorical_accuracy': [0.89339584, 0.95677084, 0.96958333], 'val_loss': [0.19882921108122295, 0.12196524912821284, 0.10531205032408858], 'val_sparse_categorical_accuracy': [0.94233334, 0.96566665, 0.9691667]}\n"
     ]
    }
   ],
   "source": [
    "print('\\History Dict: ', history.history)"
   ]
  },
  {
   "cell_type": "code",
   "execution_count": 23,
   "metadata": {},
   "outputs": [
    {
     "name": "stdout",
     "output_type": "stream",
     "text": [
      "\n",
      "Evaluation of the model with test data\n",
      "10000/10000 [==============================] - 1s 93us/sample - loss: 0.0960 - sparse_categorical_accuracy: 0.9697\n"
     ]
    }
   ],
   "source": [
    "print('\\nEvaluation of the model with test data')\n",
    "results = model.evaluate(x_test, y_test)"
   ]
  },
  {
   "cell_type": "code",
   "execution_count": 24,
   "metadata": {},
   "outputs": [],
   "source": [
    "reset_graph()\n",
    "(x_train, y_train), (x_test, y_test) = keras.datasets.mnist.load_data()\n",
    "\n",
    "#Preprocess the data using Numpy arrays\n",
    "x_train = x_train.reshape(60000,784).astype('float32') / 255\n",
    "x_test = x_test.reshape(10000,784).astype('float32') / 255\n",
    "\n",
    "y_train = y_train.astype('float32')\n",
    "y_test = y_test.astype('float32')\n",
    "\n",
    "#Reserve 10000 samples for Validation\n",
    "x_val = x_train[-10000:]\n",
    "y_val = y_train[-10000:]\n",
    "x_train = x_train[:-10000]\n",
    "y_train = y_train[:-10000]"
   ]
  },
  {
   "cell_type": "code",
   "execution_count": 25,
   "metadata": {},
   "outputs": [],
   "source": [
    "model = tf.keras.models.Sequential([\n",
    "  tf.keras.layers.Dense(units = 300, activation = 'relu' ,input_shape = (784,)),\n",
    "  tf.keras.layers.Dense(units = 100, activation = 'relu'), \n",
    "  tf.keras.layers.Dense(units = 10, name='predictions') \n",
    "])"
   ]
  },
  {
   "cell_type": "code",
   "execution_count": 26,
   "metadata": {},
   "outputs": [],
   "source": [
    "# Optimizer, loss function and metrics\n",
    "optimizer = keras.optimizers.SGD(learning_rate=0.01)\n",
    "loss_fn = keras.losses.SparseCategoricalCrossentropy(from_logits=True)\n",
    "train_acc_metric = keras.metrics.SparseCategoricalAccuracy()\n",
    "val_acc_metric = keras.metrics.SparseCategoricalAccuracy()"
   ]
  },
  {
   "cell_type": "code",
   "execution_count": 27,
   "metadata": {},
   "outputs": [],
   "source": [
    "#Preparing the training dataset.\n",
    "batch_size = 50\n",
    "train_dataset = tf.data.Dataset.from_tensor_slices((x_train, y_train))\n",
    "train_dataset = train_dataset.shuffle(buffer_size=1024).batch(batch_size)\n",
    "\n",
    "#Preparing validation dataset\n",
    "val_dataset = tf.data.Dataset.from_tensor_slices((x_val, y_val))\n",
    "val_dataset = val_dataset.batch(batch_size)"
   ]
  },
  {
   "cell_type": "code",
   "execution_count": 28,
   "metadata": {},
   "outputs": [
    {
     "name": "stdout",
     "output_type": "stream",
     "text": [
      "Training Accuracy:  (0.8399999737739563,)\n",
      "Validation Accuracy:  (0.9027000069618225,)\n",
      "Training Accuracy:  (0.8600000143051147,)\n",
      "Validation Accuracy:  (0.919700026512146,)\n",
      "Training Accuracy:  (0.9399999976158142,)\n",
      "Validation Accuracy:  (0.932699978351593,)\n",
      "Training Accuracy:  (0.9399999976158142,)\n",
      "Validation Accuracy:  (0.9387999773025513,)\n",
      "Training Accuracy:  (0.9200000166893005,)\n",
      "Validation Accuracy:  (0.9431999921798706,)\n"
     ]
    }
   ],
   "source": [
    "epochs=5\n",
    "for epoch in range (epochs):\n",
    "    for step, (x_batch_train, y_batch_train) in enumerate(train_dataset):\n",
    "        with tf.GradientTape() as tape:\n",
    "            logits  = model(x_batch_train)\n",
    "            loss_value = loss_fn(y_batch_train, logits)\n",
    "        grads = tape.gradient(loss_value, model.trainable_weights)\n",
    "        optimizer.apply_gradients(zip(grads, model.trainable_weights))\n",
    "            \n",
    "    train_acc_metric(y_batch_train, logits)\n",
    "            \n",
    "    if step % 5 == 0:\n",
    "        print('Training Loss',(step, float(loss_value)))\n",
    "    train_acc = train_acc_metric.result()\n",
    "    print('Training Accuracy: ',(float(train_acc),))\n",
    "    train_acc_metric.reset_states()\n",
    "    \n",
    "    for x_batch_val, y_batch_val in val_dataset:\n",
    "        val_logits = model(x_batch_val)\n",
    "        val_acc_metric(y_batch_val, val_logits)\n",
    "    val_acc = val_acc_metric.result()\n",
    "    val_acc_metric.reset_states()\n",
    "    print('Validation Accuracy: ',(float(val_acc),))"
   ]
  },
  {
   "cell_type": "markdown",
   "metadata": {},
   "source": [
    "# Exponential Linear Units - ELU\n",
    "- Negative values when z < 0, which allows the unit to have an average output closer to 0. This helps alleviate the vanishing gradients problem.\n",
    "- The main drawback of the ELU activation function is that it is slower to compute than the ReLU and its variants due to the use of the exponential function but during training this is compensated by the faster convergence rate."
   ]
  },
  {
   "cell_type": "code",
   "execution_count": 29,
   "metadata": {},
   "outputs": [],
   "source": [
    "def elu(z, alpha=1):\n",
    "    return np.where(z < 0, alpha * (np.exp(z) -1), z)"
   ]
  },
  {
   "cell_type": "code",
   "execution_count": 30,
   "metadata": {},
   "outputs": [
    {
     "data": {
      "image/png": "[encoded data removed]",
      "text/plain": [
       "<Figure size 720x360 with 1 Axes>"
      ]
     },
     "metadata": {
      "needs_background": "light"
     },
     "output_type": "display_data"
    }
   ],
   "source": [
    "plt.figure(figsize=(10,5))\n",
    "plt.plot(z, elu(z), 'b-', linewidth=2)\n",
    "plt.plot([-5,5], [0,0], 'k-')\n",
    "plt.plot([-5,5], [-1,-1], 'k--')\n",
    "plt.plot([0,0], [-2.2, 3.2], 'k-')\n",
    "plt.grid(True)\n",
    "plt.title(r'Elu Activation($\\alpha=1$)', fontsize=14)\n",
    "plt.axis([-5,5, -2.2, 3.2])\n",
    "plt.show()"
   ]
  },
  {
   "cell_type": "code",
   "execution_count": 31,
   "metadata": {},
   "outputs": [],
   "source": [
    "EL = tf.keras.layers.ELU(alpha=1.0)\n",
    "model = tf.keras.models.Sequential([\n",
    "  tf.keras.layers.Dense(units = 300, kernel_initializer='glorot_uniform', bias_initializer='zeros', activation = EL,input_shape = (784,)),\n",
    "  tf.keras.layers.Dense(units = 100, kernel_initializer='glorot_uniform', bias_initializer='zeros', activation = EL), \n",
    "  tf.keras.layers.Dense(units = 10, name='predictions') \n",
    "])"
   ]
  },
  {
   "cell_type": "code",
   "execution_count": 32,
   "metadata": {},
   "outputs": [],
   "source": [
    "model.compile(optimizer=keras.optimizers.SGD(learning_rate=0.01, momentum=0.9),\n",
    "             loss=keras.losses.SparseCategoricalCrossentropy(from_logits=True),#  Used to get integer targets.\n",
    "             metrics=['sparse_categorical_accuracy'])"
   ]
  },
  {
   "cell_type": "code",
   "execution_count": 33,
   "metadata": {},
   "outputs": [
    {
     "name": "stdout",
     "output_type": "stream",
     "text": [
      "\n",
      "Fit model on training data\n",
      "Train on 40000 samples, validate on 10000 samples\n",
      "Epoch 1/3\n",
      "40000/40000 [==============================] - 5s 121us/sample - loss: 0.3710 - sparse_categorical_accuracy: 0.8899 - val_loss: 0.2736 - val_sparse_categorical_accuracy: 0.9172\n",
      "Epoch 2/3\n",
      "40000/40000 [==============================] - 4s 107us/sample - loss: 0.2018 - sparse_categorical_accuracy: 0.9406 - val_loss: 0.2063 - val_sparse_categorical_accuracy: 0.9356\n",
      "Epoch 3/3\n",
      "40000/40000 [==============================] - 4s 109us/sample - loss: 0.1472 - sparse_categorical_accuracy: 0.9572 - val_loss: 0.1669 - val_sparse_categorical_accuracy: 0.9481\n"
     ]
    },
    {
     "data": {
      "text/plain": [
       "<tensorflow.python.keras.callbacks.History at 0x22bb0e50748>"
      ]
     },
     "execution_count": 33,
     "metadata": {},
     "output_type": "execute_result"
    }
   ],
   "source": [
    "print('\\nFit model on training data')\n",
    "model.fit(x_train, y_train, batch_size=50, epochs=3, validation_split=0.2)"
   ]
  },
  {
   "cell_type": "code",
   "execution_count": 34,
   "metadata": {},
   "outputs": [
    {
     "name": "stdout",
     "output_type": "stream",
     "text": [
      "\\History Dict:  {'loss': [0.36513318088448915, 0.14827217614122976, 0.10217837591674955], 'sparse_categorical_accuracy': [0.89339584, 0.95677084, 0.96958333], 'val_loss': [0.19882921108122295, 0.12196524912821284, 0.10531205032408858], 'val_sparse_categorical_accuracy': [0.94233334, 0.96566665, 0.9691667]}\n"
     ]
    }
   ],
   "source": [
    "print('\\History Dict: ', history.history)"
   ]
  },
  {
   "cell_type": "code",
   "execution_count": 35,
   "metadata": {},
   "outputs": [
    {
     "name": "stdout",
     "output_type": "stream",
     "text": [
      "\n",
      "Evaluation of the model with test data\n",
      "10000/10000 [==============================] - 1s 103us/sample - loss: 0.1375 - sparse_categorical_accuracy: 0.9571\n"
     ]
    }
   ],
   "source": [
    "print('\\nEvaluation of the model with test data')\n",
    "results = model.evaluate(x_test, y_test)"
   ]
  },
  {
   "cell_type": "markdown",
   "metadata": {},
   "source": [
    "# Scaled Exponential Linear Unit - SELU\n",
    "- A neural network composed exclusively of a stack of dense layers using the SELU activation function and LeCun initialization will self-normalize: the output of each layer will tend to preserve the same mean and variance during training which solves the vanishing/exploding gradients problem."
   ]
  },
  {
   "cell_type": "code",
   "execution_count": 36,
   "metadata": {},
   "outputs": [],
   "source": [
    "from scipy.special import erfc\n",
    "\n",
    "# alpha and scale to self normalize with mean 0 and standard deviation 1\n",
    "# (see equation 14 in the paper):\n",
    "alpha_0_1 = -np.sqrt(2 / np.pi) / (erfc(1/np.sqrt(2)) * np.exp(1/2) - 1)\n",
    "scale_0_1 = (1 - erfc(1 / np.sqrt(2)) * np.sqrt(np.e)) * np.sqrt(2 * np.pi) * (2 * erfc(np.sqrt(2))*np.e**2 + np.pi*erfc(1/np.sqrt(2))**2*np.e - 2*(2+np.pi)*erfc(1/np.sqrt(2))*np.sqrt(np.e)+np.pi+2)**(-1/2)"
   ]
  },
  {
   "cell_type": "code",
   "execution_count": 37,
   "metadata": {},
   "outputs": [],
   "source": [
    "def selu(z, scale=scale_0_1, alpha=alpha_0_1):\n",
    "    return scale * elu(z, alpha)"
   ]
  },
  {
   "cell_type": "code",
   "execution_count": 38,
   "metadata": {},
   "outputs": [
    {
     "data": {
      "image/png": "[encoded data removed]",
      "text/plain": [
       "<Figure size 720x360 with 1 Axes>"
      ]
     },
     "metadata": {
      "needs_background": "light"
     },
     "output_type": "display_data"
    }
   ],
   "source": [
    "plt.figure(figsize=(10,5))\n",
    "plt.plot(z, selu(z), \"b-\", linewidth=2)\n",
    "plt.plot([-5, 5], [0, 0], 'k-')\n",
    "plt.plot([-5, 5], [-1.758, -1.758], 'k--')\n",
    "plt.plot([0, 0], [-2.2, 3.2], 'k-')\n",
    "plt.grid(True)\n",
    "plt.title(r\"SELU activation function\", fontsize=14)\n",
    "plt.axis([-5, 5, -2.2, 3.2])\n",
    "plt.show()"
   ]
  },
  {
   "cell_type": "code",
   "execution_count": 39,
   "metadata": {},
   "outputs": [
    {
     "name": "stdout",
     "output_type": "stream",
     "text": [
      "Layer 0: mean -0.00, std deviation 1.00\n",
      "Layer 100: mean 0.02, std deviation 0.96\n",
      "Layer 200: mean 0.01, std deviation 0.90\n",
      "Layer 300: mean -0.02, std deviation 0.92\n",
      "Layer 400: mean 0.05, std deviation 0.89\n",
      "Layer 500: mean 0.01, std deviation 0.93\n",
      "Layer 600: mean 0.02, std deviation 0.92\n",
      "Layer 700: mean -0.02, std deviation 0.90\n",
      "Layer 800: mean 0.05, std deviation 0.83\n",
      "Layer 900: mean 0.02, std deviation 1.00\n"
     ]
    }
   ],
   "source": [
    "np.random.seed(42)\n",
    "Z = np.random.normal(size=(500, 100)) # standardized inputs\n",
    "for layer in range(1000):\n",
    "    W = np.random.normal(size=(100, 100), scale=np.sqrt(1 / 100)) # LeCun initialization\n",
    "    Z = selu(np.dot(Z, W))\n",
    "    means = np.mean(Z, axis=0).mean()\n",
    "    stds = np.std(Z, axis=0).mean()\n",
    "    if layer % 100 == 0:\n",
    "        print(\"Layer {}: mean {:.2f}, std deviation {:.2f}\".format(layer, means, stds))"
   ]
  },
  {
   "cell_type": "code",
   "execution_count": 40,
   "metadata": {},
   "outputs": [],
   "source": [
    "model = tf.keras.models.Sequential([\n",
    "  tf.keras.layers.Dense(units = 300, activation = 'selu' ,input_shape = (784,)),\n",
    "  tf.keras.layers.Dense(units = 100, activation = 'selu'), \n",
    "  tf.keras.layers.Dense(units = 10, name='predictions') \n",
    "])"
   ]
  },
  {
   "cell_type": "code",
   "execution_count": 41,
   "metadata": {},
   "outputs": [],
   "source": [
    "# Optimizer, loss function and metrics\n",
    "optimizer = keras.optimizers.SGD(learning_rate=0.01)\n",
    "loss_fn = keras.losses.SparseCategoricalCrossentropy(from_logits=True)\n",
    "train_acc_metric = keras.metrics.SparseCategoricalAccuracy()\n",
    "val_acc_metric = keras.metrics.SparseCategoricalAccuracy()"
   ]
  },
  {
   "cell_type": "code",
   "execution_count": 42,
   "metadata": {},
   "outputs": [],
   "source": [
    "#Preparing the training dataset.\n",
    "batch_size = 50\n",
    "train_dataset = tf.data.Dataset.from_tensor_slices((x_train, y_train))\n",
    "train_dataset = train_dataset.shuffle(buffer_size=1024).batch(batch_size)\n",
    "\n",
    "#Preparing validation dataset\n",
    "val_dataset = tf.data.Dataset.from_tensor_slices((x_val, y_val))\n",
    "val_dataset = val_dataset.batch(batch_size)"
   ]
  },
  {
   "cell_type": "code",
   "execution_count": 43,
   "metadata": {},
   "outputs": [
    {
     "name": "stdout",
     "output_type": "stream",
     "text": [
      "Training Accuracy:  (0.9399999976158142,)\n",
      "Validation Accuracy:  (0.911899983882904,)\n",
      "Training Accuracy:  (0.9800000190734863,)\n",
      "Validation Accuracy:  (0.9222000241279602,)\n",
      "Training Accuracy:  (0.8799999952316284,)\n",
      "Validation Accuracy:  (0.9275000095367432,)\n"
     ]
    }
   ],
   "source": [
    "epochs=3\n",
    "for epoch in range (epochs):\n",
    "    for step, (x_batch_train, y_batch_train) in enumerate(train_dataset):\n",
    "        with tf.GradientTape() as tape:\n",
    "            logits  = model(x_batch_train)\n",
    "            loss_value = loss_fn(y_batch_train, logits)\n",
    "        grads = tape.gradient(loss_value, model.trainable_weights)\n",
    "        optimizer.apply_gradients(zip(grads, model.trainable_weights))\n",
    "            \n",
    "    train_acc_metric(y_batch_train, logits)\n",
    "            \n",
    "    if step % 5 == 0:\n",
    "        print('Training Loss',(step, float(loss_value)))\n",
    "    train_acc = train_acc_metric.result()\n",
    "    print('Training Accuracy: ',(float(train_acc),))\n",
    "    train_acc_metric.reset_states()\n",
    "    \n",
    "    for x_batch_val, y_batch_val in val_dataset:\n",
    "        val_logits = model(x_batch_val)\n",
    "        val_acc_metric(y_batch_val, val_logits)\n",
    "    val_acc = val_acc_metric.result()\n",
    "    val_acc_metric.reset_states()\n",
    "    print('Validation Accuracy: ',(float(val_acc),))"
   ]
  },
  {
   "cell_type": "code",
   "execution_count": 44,
   "metadata": {},
   "outputs": [],
   "source": [
    "#Using SELU and LeCun intialization\n",
    "model = tf.keras.models.Sequential([\n",
    "  tf.keras.layers.Dense(units = 300, kernel_initializer='lecun_normal', activation = 'selu' ,input_shape = (784,)),\n",
    "  tf.keras.layers.Dense(units = 100, kernel_initializer='lecun_normal', activation = 'selu'), \n",
    "  tf.keras.layers.Dense(units = 10, activation='softmax', name='predictions') \n",
    "])"
   ]
  },
  {
   "cell_type": "code",
   "execution_count": 45,
   "metadata": {},
   "outputs": [
    {
     "name": "stdout",
     "output_type": "stream",
     "text": [
      "Model: \"sequential_3\"\n",
      "_________________________________________________________________\n",
      "Layer (type)                 Output Shape              Param #   \n",
      "=================================================================\n",
      "dense_6 (Dense)              (None, 300)               235500    \n",
      "_________________________________________________________________\n",
      "dense_7 (Dense)              (None, 100)               30100     \n",
      "_________________________________________________________________\n",
      "predictions (Dense)          (None, 10)                1010      \n",
      "=================================================================\n",
      "Total params: 266,610\n",
      "Trainable params: 266,610\n",
      "Non-trainable params: 0\n",
      "_________________________________________________________________\n"
     ]
    }
   ],
   "source": [
    "model.summary()"
   ]
  },
  {
   "cell_type": "code",
   "execution_count": 46,
   "metadata": {},
   "outputs": [],
   "source": [
    "model.compile(optimizer=keras.optimizers.SGD(learning_rate=0.01, momentum=0.9),\n",
    "             loss=keras.losses.SparseCategoricalCrossentropy(from_logits=True),\n",
    "             metrics = ['sparse_categorical_accuracy'])"
   ]
  },
  {
   "cell_type": "code",
   "execution_count": 47,
   "metadata": {},
   "outputs": [
    {
     "name": "stdout",
     "output_type": "stream",
     "text": [
      "Train on 40000 samples, validate on 10000 samples\n",
      "Epoch 1/3\n",
      "40000/40000 [==============================] - 5s 118us/sample - loss: 1.6494 - sparse_categorical_accuracy: 0.8416 - val_loss: 1.5771 - val_sparse_categorical_accuracy: 0.8982\n",
      "Epoch 2/3\n",
      "40000/40000 [==============================] - 4s 101us/sample - loss: 1.5578 - sparse_categorical_accuracy: 0.9149 - val_loss: 1.5617 - val_sparse_categorical_accuracy: 0.9083\n",
      "Epoch 3/3\n",
      "40000/40000 [==============================] - 4s 101us/sample - loss: 1.5465 - sparse_categorical_accuracy: 0.9223 - val_loss: 1.5565 - val_sparse_categorical_accuracy: 0.9109\n"
     ]
    },
    {
     "data": {
      "text/plain": [
       "<tensorflow.python.keras.callbacks.History at 0x22bb25ebe48>"
      ]
     },
     "execution_count": 47,
     "metadata": {},
     "output_type": "execute_result"
    }
   ],
   "source": [
    "model.fit(x_train, y_train, batch_size=50, epochs=3, validation_split=0.2)"
   ]
  },
  {
   "cell_type": "code",
   "execution_count": 48,
   "metadata": {},
   "outputs": [
    {
     "name": "stdout",
     "output_type": "stream",
     "text": [
      "\n",
      "History Dict:  {'loss': [0.36513318088448915, 0.14827217614122976, 0.10217837591674955], 'sparse_categorical_accuracy': [0.89339584, 0.95677084, 0.96958333], 'val_loss': [0.19882921108122295, 0.12196524912821284, 0.10531205032408858], 'val_sparse_categorical_accuracy': [0.94233334, 0.96566665, 0.9691667]}\n"
     ]
    }
   ],
   "source": [
    "print('\\nHistory Dict: ', history.history)"
   ]
  },
  {
   "cell_type": "code",
   "execution_count": 49,
   "metadata": {},
   "outputs": [
    {
     "name": "stdout",
     "output_type": "stream",
     "text": [
      "10000/10000 [==============================] - 1s 90us/sample - loss: 1.5428 - sparse_categorical_accuracy: 0.9247\n"
     ]
    }
   ],
   "source": [
    "results = model.evaluate(x_test, y_test)"
   ]
  },
  {
   "cell_type": "markdown",
   "metadata": {},
   "source": [
    "# Batch Normalization\n",
    "- Batch Normalization addresses the vanishing/exploding gradients problems, and more generally the problem that the distribution of each layer’s inputs changes during training, as the parameters of the previous layers change a process called  Internal Covariate Shift problem.\n",
    "- The activation function of each layer simply zero-centering and normalizing the inputs then scaling and shifting the result using two new parameters per layer (one for scaling, the other for shifting).This operation lets the model learn the optimal scale and mean of the inputs for each layer.\n",
    "- In order to zero-center and normalize the inputs, the algorithm needs to estimate the inputs’ mean and standard deviation."
   ]
  },
  {
   "cell_type": "code",
   "execution_count": 50,
   "metadata": {},
   "outputs": [],
   "source": [
    "from tensorflow.keras import initializers\n",
    "reset_graph()\n",
    "\n",
    "he_init = tf.keras.initializers.VarianceScaling(scale=1.0, mode='fan_in', distribution='normal', seed=None)\n",
    "\n",
    "model = tf.keras.models.Sequential([\n",
    "  tf.keras.layers.Dense(units = 300, kernel_initializer=he_init, activation = 'elu',input_shape = (784,)),\n",
    "  tf.keras.layers.BatchNormalization(axis=-1, momentum=0.99, epsilon=0.001, center=True, scale=True,),\n",
    "    # epsilon deals with division by zero.\n",
    "    \n",
    "  tf.keras.layers.Dense(units = 100, kernel_initializer=he_init, activation = 'elu'),\n",
    "  tf.keras.layers.BatchNormalization(axis=-1, momentum=0.99, epsilon=0.001, center=True, scale=True,),\n",
    "    \n",
    "  tf.keras.layers.Dense(units = 10, activation='softmax',name='predictions') \n",
    "])"
   ]
  },
  {
   "cell_type": "code",
   "execution_count": 51,
   "metadata": {},
   "outputs": [
    {
     "name": "stdout",
     "output_type": "stream",
     "text": [
      "Model: \"sequential\"\n",
      "_________________________________________________________________\n",
      "Layer (type)                 Output Shape              Param #   \n",
      "=================================================================\n",
      "dense (Dense)                (None, 300)               235500    \n",
      "_________________________________________________________________\n",
      "batch_normalization (BatchNo (None, 300)               1200      \n",
      "_________________________________________________________________\n",
      "dense_1 (Dense)              (None, 100)               30100     \n",
      "_________________________________________________________________\n",
      "batch_normalization_1 (Batch (None, 100)               400       \n",
      "_________________________________________________________________\n",
      "predictions (Dense)          (None, 10)                1010      \n",
      "=================================================================\n",
      "Total params: 268,210\n",
      "Trainable params: 267,410\n",
      "Non-trainable params: 800\n",
      "_________________________________________________________________\n"
     ]
    }
   ],
   "source": [
    "model.summary()"
   ]
  },
  {
   "cell_type": "code",
   "execution_count": 52,
   "metadata": {},
   "outputs": [],
   "source": [
    "model.compile(optimizer=keras.optimizers.SGD(learning_rate=0.01),\n",
    "             loss = keras.losses.SparseCategoricalCrossentropy(from_logits=True),\n",
    "             metrics=['sparse_categorical_accuracy'])"
   ]
  },
  {
   "cell_type": "code",
   "execution_count": 53,
   "metadata": {},
   "outputs": [
    {
     "name": "stdout",
     "output_type": "stream",
     "text": [
      "Fix model on training data\n",
      "Train on 40000 samples, validate on 10000 samples\n",
      "Epoch 1/5\n",
      "40000/40000 [==============================] - 3s 85us/sample - loss: 1.9720 - sparse_categorical_accuracy: 0.5450 - val_loss: 1.8975 - val_sparse_categorical_accuracy: 0.7607\n",
      "Epoch 2/5\n",
      "40000/40000 [==============================] - 2s 57us/sample - loss: 1.7165 - sparse_categorical_accuracy: 0.8031 - val_loss: 1.7069 - val_sparse_categorical_accuracy: 0.8239\n",
      "Epoch 3/5\n",
      "40000/40000 [==============================] - 2s 54us/sample - loss: 1.6651 - sparse_categorical_accuracy: 0.8458 - val_loss: 1.6557 - val_sparse_categorical_accuracy: 0.8562\n",
      "Epoch 4/5\n",
      "40000/40000 [==============================] - 2s 57us/sample - loss: 1.6359 - sparse_categorical_accuracy: 0.8702 - val_loss: 1.6336 - val_sparse_categorical_accuracy: 0.8713\n",
      "Epoch 5/5\n",
      "40000/40000 [==============================] - 2s 58us/sample - loss: 1.6192 - sparse_categorical_accuracy: 0.8840 - val_loss: 1.6203 - val_sparse_categorical_accuracy: 0.8810\n"
     ]
    }
   ],
   "source": [
    "print('Fix model on training data')\n",
    "history = model.fit(x_train, y_train, batch_size=200, epochs=5, validation_split=0.2)"
   ]
  },
  {
   "cell_type": "code",
   "execution_count": 54,
   "metadata": {},
   "outputs": [
    {
     "name": "stdout",
     "output_type": "stream",
     "text": [
      "\n",
      "History Dict:  {'loss': [1.9719512736797333, 1.7164618080854417, 1.6650959342718124, 1.6359009474515915, 1.6192009741067885], 'sparse_categorical_accuracy': [0.54495, 0.803125, 0.845775, 0.870225, 0.884], 'val_loss': [1.8975470519065858, 1.706898765563965, 1.6557056570053101, 1.6335647296905518, 1.6202838587760926], 'val_sparse_categorical_accuracy': [0.7607, 0.8239, 0.8562, 0.8713, 0.881]}\n"
     ]
    }
   ],
   "source": [
    "print('\\nHistory Dict: ', history.history)"
   ]
  },
  {
   "cell_type": "code",
   "execution_count": 55,
   "metadata": {},
   "outputs": [
    {
     "name": "stdout",
     "output_type": "stream",
     "text": [
      "10000/10000 [==============================] - 1s 101us/sample - loss: 1.6019 - sparse_categorical_accuracy: 0.8980\n"
     ]
    }
   ],
   "source": [
    "results = model.evaluate(x_test, y_test)"
   ]
  },
  {
   "cell_type": "code",
   "execution_count": 56,
   "metadata": {},
   "outputs": [
    {
     "name": "stdout",
     "output_type": "stream",
     "text": [
      "Generate predictions for 3 samples\n"
     ]
    },
    {
     "data": {
      "text/plain": [
       "array([[1.31483670e-04, 2.82909768e-05, 9.30883107e-05, 9.41322651e-05,\n",
       "        1.85465979e-05, 1.21699786e-05, 3.33694425e-06, 9.99570429e-01,\n",
       "        1.28421675e-06, 4.71554740e-05],\n",
       "       [1.53640453e-02, 1.42481455e-04, 9.44765747e-01, 1.00450162e-02,\n",
       "        9.80158075e-06, 1.01110395e-02, 1.67744476e-02, 4.96405528e-06,\n",
       "        2.73326691e-03, 4.91715728e-05],\n",
       "       [5.33848419e-04, 9.88095522e-01, 2.31873151e-03, 8.35351821e-04,\n",
       "        1.79983571e-03, 5.13095525e-04, 1.98044325e-03, 3.12426942e-03,\n",
       "        3.24610592e-04, 4.74371744e-04]], dtype=float32)"
      ]
     },
     "execution_count": 56,
     "metadata": {},
     "output_type": "execute_result"
    }
   ],
   "source": [
    "print('Generate predictions for 3 samples')\n",
    "predictions = model.predict(x_test[:3])\n",
    "predictions"
   ]
  },
  {
   "cell_type": "code",
   "execution_count": 57,
   "metadata": {},
   "outputs": [
    {
     "name": "stdout",
     "output_type": "stream",
     "text": [
      "predictions shape:  (3, 10)\n"
     ]
    }
   ],
   "source": [
    "print('predictions shape: ', predictions.shape)"
   ]
  },
  {
   "cell_type": "markdown",
   "metadata": {},
   "source": [
    "# Gradient Clipping\n",
    "- A popular technique to lessen the exploding gradients problem is to simply clip the gradients during backpropagation so that they never exceed some threshold and this is mostly useful for recurrent neural networks. \n",
    "- All parameter gradients will be clipped to a maximum norm of 1. sgd = optimizers.SGD(lr=0.01, clipnorm=1.)\n",
    "- All parameter gradients will be clipped to a maximum value of 0.5 and a minimum value of -0.5.sgd = optimizers.SGD(lr=0.01, clipvalue=0.5)"
   ]
  },
  {
   "cell_type": "code",
   "execution_count": 58,
   "metadata": {},
   "outputs": [],
   "source": [
    "from tensorflow import keras\n",
    "from tensorflow.keras import layers\n",
    "\n",
    "reset_graph()\n",
    "\n",
    "n_inputs = 28 * 28\n",
    "n_hidden1 = 300\n",
    "n_hidden2 = 50\n",
    "n_hidden3 = 50\n",
    "n_hidden4 = 50\n",
    "n_hidden5 = 50\n",
    "n_outputs = 10"
   ]
  },
  {
   "cell_type": "code",
   "execution_count": 59,
   "metadata": {},
   "outputs": [],
   "source": [
    "model = tf.keras.models.Sequential([\n",
    "  tf.keras.layers.Dense(units = 300, activation = 'relu' ,input_shape = (784,),name = 'hidden1'),\n",
    "  tf.keras.layers.Dense(units = 50, activation = 'relu', name = 'hidden2'),\n",
    "  tf.keras.layers.Dense(units = 50, activation = 'relu', name = 'hidden3'),\n",
    "  tf.keras.layers.Dense(units = 50, activation = 'relu', name = 'hidden4'),\n",
    "  tf.keras.layers.Dense(units = 50, activation = 'relu', name = 'hidden5'),\n",
    "  tf.keras.layers.Dense(units = 10, name='ouputs') \n",
    "])"
   ]
  },
  {
   "cell_type": "code",
   "execution_count": 60,
   "metadata": {},
   "outputs": [
    {
     "name": "stdout",
     "output_type": "stream",
     "text": [
      "Model: \"sequential\"\n",
      "_________________________________________________________________\n",
      "Layer (type)                 Output Shape              Param #   \n",
      "=================================================================\n",
      "hidden1 (Dense)              (None, 300)               235500    \n",
      "_________________________________________________________________\n",
      "hidden2 (Dense)              (None, 50)                15050     \n",
      "_________________________________________________________________\n",
      "hidden3 (Dense)              (None, 50)                2550      \n",
      "_________________________________________________________________\n",
      "hidden4 (Dense)              (None, 50)                2550      \n",
      "_________________________________________________________________\n",
      "hidden5 (Dense)              (None, 50)                2550      \n",
      "_________________________________________________________________\n",
      "ouputs (Dense)               (None, 10)                510       \n",
      "=================================================================\n",
      "Total params: 258,710\n",
      "Trainable params: 258,710\n",
      "Non-trainable params: 0\n",
      "_________________________________________________________________\n"
     ]
    }
   ],
   "source": [
    "model.summary()"
   ]
  },
  {
   "cell_type": "code",
   "execution_count": 61,
   "metadata": {},
   "outputs": [],
   "source": [
    "model.compile(optimizer = keras.optimizers.SGD(learning_rate=0.01, clipvalue=1.0),\n",
    "             loss = keras.losses.SparseCategoricalCrossentropy(from_logits=True),\n",
    "             metrics=['sparse_categorical_accuracy'])"
   ]
  },
  {
   "cell_type": "code",
   "execution_count": 118,
   "metadata": {},
   "outputs": [
    {
     "name": "stdout",
     "output_type": "stream",
     "text": [
      "\n",
      "Fit model training data\n",
      "Train on 48000 samples, validate on 12000 samples\n",
      "Epoch 1/5\n",
      "48000/48000 [==============================] - 7s 138us/sample - loss: 0.0714 - sparse_categorical_accuracy: 0.9784 - val_loss: 0.0761 - val_sparse_categorical_accuracy: 0.9753\n",
      "Epoch 2/5\n",
      "48000/48000 [==============================] - 7s 140us/sample - loss: 0.0544 - sparse_categorical_accuracy: 0.9839 - val_loss: 0.0723 - val_sparse_categorical_accuracy: 0.9775\n",
      "Epoch 3/5\n",
      "48000/48000 [==============================] - 7s 137us/sample - loss: 0.0416 - sparse_categorical_accuracy: 0.9873 - val_loss: 0.0728 - val_sparse_categorical_accuracy: 0.9787\n",
      "Epoch 4/5\n",
      "48000/48000 [==============================] - 7s 140us/sample - loss: 0.0349 - sparse_categorical_accuracy: 0.9896 - val_loss: 0.0722 - val_sparse_categorical_accuracy: 0.9793\n",
      "Epoch 5/5\n",
      "48000/48000 [==============================] - 7s 138us/sample - loss: 0.0265 - sparse_categorical_accuracy: 0.9925 - val_loss: 0.0735 - val_sparse_categorical_accuracy: 0.9791\n"
     ]
    }
   ],
   "source": [
    "print('\\nFit model training data')\n",
    "history = model.fit(x_train, y_train, batch_size=50, epochs=5, validation_split=0.2)"
   ]
  },
  {
   "cell_type": "code",
   "execution_count": 119,
   "metadata": {},
   "outputs": [
    {
     "name": "stdout",
     "output_type": "stream",
     "text": [
      "\n",
      "History Dict:  {'loss': [0.07135796812702513, 0.054418049603070055, 0.04156275700249049, 0.03488908911179654, 0.026546081993971408], 'sparse_categorical_accuracy': [0.9783958, 0.9839375, 0.9872917, 0.98964584, 0.9925], 'val_loss': [0.07610360678566698, 0.07229348450734202, 0.07284943280610605, 0.0721946787625105, 0.07348090404314765], 'val_sparse_categorical_accuracy': [0.97533333, 0.9775, 0.97866666, 0.97925, 0.97908336]}\n"
     ]
    }
   ],
   "source": [
    "print('\\nHistory Dict: ', history.history)"
   ]
  },
  {
   "cell_type": "code",
   "execution_count": 120,
   "metadata": {},
   "outputs": [
    {
     "name": "stdout",
     "output_type": "stream",
     "text": [
      "10000/10000 [==============================] - 1s 75us/sample - loss: 0.0746 - sparse_categorical_accuracy: 0.9775\n"
     ]
    }
   ],
   "source": [
    "results = model.evaluate(x_test,y_test)"
   ]
  },
  {
   "cell_type": "markdown",
   "metadata": {},
   "source": [
    "# Reusing Pretrained Layers or Reusing a Tensorflow Model."
   ]
  },
  {
   "cell_type": "code",
   "execution_count": 65,
   "metadata": {},
   "outputs": [
    {
     "name": "stderr",
     "output_type": "stream",
     "text": [
      "Using TensorFlow backend.\n"
     ]
    }
   ],
   "source": [
    "from keras.models import load_model\n",
    "\n",
    "model.save('./my_final_model.h5')  # creates a HDF5 file 'my_model.h5'\n",
    "del model  # deletes the existing model\n"
   ]
  },
  {
   "cell_type": "code",
   "execution_count": 66,
   "metadata": {},
   "outputs": [],
   "source": [
    "import tensorflow as tf\n",
    "# returns a compiled model identical to the previous one\n",
    "new_model = tf.keras.models.load_model('./my_final_model.h5')"
   ]
  },
  {
   "cell_type": "code",
   "execution_count": 67,
   "metadata": {},
   "outputs": [
    {
     "name": "stdout",
     "output_type": "stream",
     "text": [
      "Model: \"sequential\"\n",
      "_________________________________________________________________\n",
      "Layer (type)                 Output Shape              Param #   \n",
      "=================================================================\n",
      "hidden1 (Dense)              (None, 300)               235500    \n",
      "_________________________________________________________________\n",
      "hidden2 (Dense)              (None, 50)                15050     \n",
      "_________________________________________________________________\n",
      "hidden3 (Dense)              (None, 50)                2550      \n",
      "_________________________________________________________________\n",
      "hidden4 (Dense)              (None, 50)                2550      \n",
      "_________________________________________________________________\n",
      "hidden5 (Dense)              (None, 50)                2550      \n",
      "_________________________________________________________________\n",
      "ouputs (Dense)               (None, 10)                510       \n",
      "=================================================================\n",
      "Total params: 258,710\n",
      "Trainable params: 258,710\n",
      "Non-trainable params: 0\n",
      "_________________________________________________________________\n"
     ]
    }
   ],
   "source": [
    "new_model.summary()"
   ]
  },
  {
   "cell_type": "markdown",
   "metadata": {},
   "source": [
    "# Freezing of Layers in the Model\n",
    "- It is generally a good idea to freeze their weights when training the new DNN, if the lower-layer weights are fixed then the higher-layer weights will be easier to train because they won’t have to learn a moving target.\n",
    "- frozen_layer = Dense(32, trainable=False)\n",
    "- http://faroit.com/keras-docs/2.1.3/getting-started/faq/#how-can-i-freeze-keras-layers"
   ]
  },
  {
   "cell_type": "code",
   "execution_count": 68,
   "metadata": {},
   "outputs": [],
   "source": [
    "model = tf.keras.models.Sequential([\n",
    "  tf.keras.layers.Dense(units = 300, activation = 'relu' ,input_shape = (784,),name = 'hidden1'),\n",
    "  tf.keras.layers.Dense(units = 50, activation = 'relu', name = 'hidden2'),\n",
    "  tf.keras.layers.Dense(units = 50, activation = 'relu', name = 'hidden3', trainable=False),\n",
    "  tf.keras.layers.Dense(units = 50, activation = 'relu', name = 'hidden4', trainable=False),\n",
    "  tf.keras.layers.Dense(units = 20, activation = 'relu', name = 'hidden5'),\n",
    "  tf.keras.layers.Dense(units = 10, name='ouputs') \n",
    "])"
   ]
  },
  {
   "cell_type": "code",
   "execution_count": 69,
   "metadata": {},
   "outputs": [
    {
     "name": "stdout",
     "output_type": "stream",
     "text": [
      "Model: \"sequential_1\"\n",
      "_________________________________________________________________\n",
      "Layer (type)                 Output Shape              Param #   \n",
      "=================================================================\n",
      "hidden1 (Dense)              (None, 300)               235500    \n",
      "_________________________________________________________________\n",
      "hidden2 (Dense)              (None, 50)                15050     \n",
      "_________________________________________________________________\n",
      "hidden3 (Dense)              (None, 50)                2550      \n",
      "_________________________________________________________________\n",
      "hidden4 (Dense)              (None, 50)                2550      \n",
      "_________________________________________________________________\n",
      "hidden5 (Dense)              (None, 20)                1020      \n",
      "_________________________________________________________________\n",
      "ouputs (Dense)               (None, 10)                210       \n",
      "=================================================================\n",
      "Total params: 256,880\n",
      "Trainable params: 251,780\n",
      "Non-trainable params: 5,100\n",
      "_________________________________________________________________\n"
     ]
    }
   ],
   "source": [
    "model.summary()"
   ]
  },
  {
   "cell_type": "code",
   "execution_count": 70,
   "metadata": {},
   "outputs": [],
   "source": [
    "model.compile(optimizer = keras.optimizers.SGD(learning_rate=0.01, momentum=0.9),\n",
    "             loss = keras.losses.SparseCategoricalCrossentropy(from_logits=True),\n",
    "             metrics = ['sparse_categorical_accuracy'])"
   ]
  },
  {
   "cell_type": "code",
   "execution_count": 71,
   "metadata": {},
   "outputs": [
    {
     "name": "stdout",
     "output_type": "stream",
     "text": [
      "\n",
      "Fit the taining data\n",
      "Train on 45000 samples, validate on 5000 samples\n",
      "Epoch 1/3\n",
      "45000/45000 [==============================] - 4s 85us/sample - loss: 1.1404 - sparse_categorical_accuracy: 0.6370 - val_loss: 0.4253 - val_sparse_categorical_accuracy: 0.8726\n",
      "Epoch 2/3\n",
      "45000/45000 [==============================] - 2s 55us/sample - loss: 0.3308 - sparse_categorical_accuracy: 0.9056 - val_loss: 0.3005 - val_sparse_categorical_accuracy: 0.9126\n",
      "Epoch 3/3\n",
      "45000/45000 [==============================] - 3s 74us/sample - loss: 0.2342 - sparse_categorical_accuracy: 0.9332 - val_loss: 0.2350 - val_sparse_categorical_accuracy: 0.9306\n"
     ]
    }
   ],
   "source": [
    "print('\\nFit the taining data')\n",
    "history = model.fit(x_train, y_train, batch_size=200, epochs=3, validation_split=0.1)"
   ]
  },
  {
   "cell_type": "code",
   "execution_count": 72,
   "metadata": {},
   "outputs": [
    {
     "name": "stdout",
     "output_type": "stream",
     "text": [
      "\n",
      "History Dict:  {'loss': [1.140419090323978, 0.33080527583758035, 0.23418368011713028], 'sparse_categorical_accuracy': [0.637, 0.9055778, 0.93317777], 'val_loss': [0.42530534505844114, 0.3005303639173508, 0.23496985256671907], 'val_sparse_categorical_accuracy': [0.8726, 0.9126, 0.9306]}\n"
     ]
    }
   ],
   "source": [
    "print('\\nHistory Dict: ', history.history)"
   ]
  },
  {
   "cell_type": "code",
   "execution_count": 73,
   "metadata": {},
   "outputs": [
    {
     "name": "stdout",
     "output_type": "stream",
     "text": [
      "10000/10000 [==============================] - 1s 117us/sample - loss: 0.2016 - sparse_categorical_accuracy: 0.9415\n"
     ]
    }
   ],
   "source": [
    "results = model.evaluate(x_test, y_test)"
   ]
  },
  {
   "cell_type": "markdown",
   "metadata": {},
   "source": [
    "# Faster optimizers\n",
    "- Applying a good initialization strategy for the connection weights,using a good activation function, using Batch Normalization, and reusing parts of a pretrained network."
   ]
  },
  {
   "cell_type": "code",
   "execution_count": 74,
   "metadata": {},
   "outputs": [],
   "source": [
    "model = tf.keras.models.Sequential([\n",
    "  tf.keras.layers.Dense(units = 300, activation = 'relu' ,input_shape = (784,),name = 'hidden1'),\n",
    "  tf.keras.layers.Dense(units = 50, activation = 'relu', name = 'hidden2'),\n",
    "  tf.keras.layers.Dense(units = 10, name='ouputs') \n",
    "])"
   ]
  },
  {
   "cell_type": "code",
   "execution_count": 75,
   "metadata": {},
   "outputs": [
    {
     "name": "stdout",
     "output_type": "stream",
     "text": [
      "Model: \"sequential_2\"\n",
      "_________________________________________________________________\n",
      "Layer (type)                 Output Shape              Param #   \n",
      "=================================================================\n",
      "hidden1 (Dense)              (None, 300)               235500    \n",
      "_________________________________________________________________\n",
      "hidden2 (Dense)              (None, 50)                15050     \n",
      "_________________________________________________________________\n",
      "ouputs (Dense)               (None, 10)                510       \n",
      "=================================================================\n",
      "Total params: 251,060\n",
      "Trainable params: 251,060\n",
      "Non-trainable params: 0\n",
      "_________________________________________________________________\n"
     ]
    }
   ],
   "source": [
    "model.summary()"
   ]
  },
  {
   "cell_type": "code",
   "execution_count": 76,
   "metadata": {},
   "outputs": [
    {
     "name": "stdout",
     "output_type": "stream",
     "text": [
      "\n",
      "Fit Momentum Optimizer with the training data\n",
      "Train on 45000 samples, validate on 5000 samples\n",
      "Epoch 1/3\n",
      "45000/45000 [==============================] - 5s 111us/sample - loss: 0.3656 - sparse_categorical_accuracy: 0.8926 - val_loss: 0.2435 - val_sparse_categorical_accuracy: 0.9276\n",
      "Epoch 2/3\n",
      "45000/45000 [==============================] - 4s 99us/sample - loss: 0.1464 - sparse_categorical_accuracy: 0.9561 - val_loss: 0.1594 - val_sparse_categorical_accuracy: 0.9508\n",
      "Epoch 3/3\n",
      "45000/45000 [==============================] - 4s 96us/sample - loss: 0.0994 - sparse_categorical_accuracy: 0.9706 - val_loss: 0.1296 - val_sparse_categorical_accuracy: 0.9592\n"
     ]
    }
   ],
   "source": [
    "#Momentum optimization makes it easy to escape from plateaus much faster than Gradient Descent.\n",
    "model.compile(optimizer = keras.optimizers.SGD(learning_rate=0.01, momentum=0.9),\n",
    "                           loss = keras.losses.SparseCategoricalCrossentropy(from_logits=True),\n",
    "                           metrics = ['sparse_categorical_accuracy'])\n",
    "\n",
    "\n",
    "print('\\nFit Momentum Optimizer with the training data')\n",
    "history =  model.fit(x_train, y_train, batch_size=50, epochs=3, validation_split=0.1)"
   ]
  },
  {
   "cell_type": "code",
   "execution_count": 77,
   "metadata": {},
   "outputs": [
    {
     "name": "stdout",
     "output_type": "stream",
     "text": [
      "\n",
      "History Dict:  {'loss': [0.36557293864174023, 0.14643272256271705, 0.09944807207004891], 'sparse_categorical_accuracy': [0.89262223, 0.95611113, 0.9705778], 'val_loss': [0.24351198524236678, 0.1593829110637307, 0.12960062359459698], 'val_sparse_categorical_accuracy': [0.9276, 0.9508, 0.9592]}\n"
     ]
    }
   ],
   "source": [
    "print('\\nHistory Dict: ', history.history)"
   ]
  },
  {
   "cell_type": "code",
   "execution_count": 78,
   "metadata": {},
   "outputs": [
    {
     "name": "stdout",
     "output_type": "stream",
     "text": [
      "10000/10000 [==============================] - 1s 139us/sample - loss: 0.0955 - sparse_categorical_accuracy: 0.9695\n"
     ]
    }
   ],
   "source": [
    "results = model.evaluate(x_test,y_test)"
   ]
  },
  {
   "cell_type": "code",
   "execution_count": 79,
   "metadata": {},
   "outputs": [
    {
     "name": "stdout",
     "output_type": "stream",
     "text": [
      "\n",
      "Fit RMSProp optimizer with the training data\n",
      "Train on 45000 samples, validate on 5000 samples\n",
      "Epoch 1/3\n",
      "45000/45000 [==============================] - 7s 158us/sample - loss: 0.4528 - sparse_categorical_accuracy: 0.9104 - val_loss: 0.2740 - val_sparse_categorical_accuracy: 0.9250\n",
      "Epoch 2/3\n",
      "45000/45000 [==============================] - 5s 122us/sample - loss: 0.2423 - sparse_categorical_accuracy: 0.9475 - val_loss: 0.3536 - val_sparse_categorical_accuracy: 0.9290\n",
      "Epoch 3/3\n",
      "45000/45000 [==============================] - 5s 116us/sample - loss: 0.2307 - sparse_categorical_accuracy: 0.9538 - val_loss: 0.4290 - val_sparse_categorical_accuracy: 0.9472\n"
     ]
    }
   ],
   "source": [
    "#RMSProp algorithm accumulates only the gradients from the most recent iterations as opposed to all \n",
    "#the gradients since the beginning of training.\n",
    "model.compile(optimizer = keras.optimizers.RMSprop(learning_rate=0.01),\n",
    "                        loss = keras.losses.SparseCategoricalCrossentropy(from_logits=True),\n",
    "                        metrics = ['sparse_categorical_accuracy'])\n",
    "\n",
    "print('\\nFit RMSProp optimizer with the training data')\n",
    "history =  model.fit(x_train, y_train, batch_size=50, epochs=3, validation_split=0.1)"
   ]
  },
  {
   "cell_type": "code",
   "execution_count": 80,
   "metadata": {},
   "outputs": [
    {
     "name": "stdout",
     "output_type": "stream",
     "text": [
      "\n",
      "History Dict for RMSProp:  {'loss': [0.4528153602499515, 0.24230419459578115, 0.23068045408283877], 'sparse_categorical_accuracy': [0.91044444, 0.9474667, 0.9537778], 'val_loss': [0.27402482107281684, 0.3536141714453697, 0.428999611735926], 'val_sparse_categorical_accuracy': [0.925, 0.929, 0.9472]}\n"
     ]
    }
   ],
   "source": [
    "print('\\nHistory Dict for RMSProp: ',history.history)"
   ]
  },
  {
   "cell_type": "code",
   "execution_count": 81,
   "metadata": {},
   "outputs": [
    {
     "name": "stdout",
     "output_type": "stream",
     "text": [
      "10000/10000 [==============================] - 1s 96us/sample - loss: 0.2873 - sparse_categorical_accuracy: 0.9605\n"
     ]
    }
   ],
   "source": [
    "rms_prop = model.evaluate(x_test,y_test)"
   ]
  },
  {
   "cell_type": "code",
   "execution_count": 82,
   "metadata": {},
   "outputs": [
    {
     "name": "stdout",
     "output_type": "stream",
     "text": [
      "\n",
      "Fit ADAM with the training data\n",
      "Train on 45000 samples, validate on 5000 samples\n",
      "Epoch 1/3\n",
      "45000/45000 [==============================] - 5s 108us/sample - loss: 0.1902 - sparse_categorical_accuracy: 0.9558 - val_loss: 0.2360 - val_sparse_categorical_accuracy: 0.9392\n",
      "Epoch 2/3\n",
      "45000/45000 [==============================] - 4s 95us/sample - loss: 0.1254 - sparse_categorical_accuracy: 0.9666 - val_loss: 0.1985 - val_sparse_categorical_accuracy: 0.9510\n",
      "Epoch 3/3\n",
      "45000/45000 [==============================] - 4s 97us/sample - loss: 0.1111 - sparse_categorical_accuracy: 0.9712 - val_loss: 0.1984 - val_sparse_categorical_accuracy: 0.9542\n"
     ]
    }
   ],
   "source": [
    "#Adaptive moment estimation combines the ideas of Momentum optimization and RMSProp & just like Momentum optimization \n",
    "#it keeps track of an exponentially decaying average of past gradients and just like \n",
    "#RMSProp it keeps track of an exponentially decaying average of past squared gradients. \n",
    "model.compile(optimizer = keras.optimizers.Adam(learning_rate=0.01),\n",
    "                       loss = keras.losses.SparseCategoricalCrossentropy(from_logits=True),\n",
    "                       metrics = ['sparse_categorical_accuracy'])\n",
    "\n",
    "print('\\nFit ADAM with the training data')\n",
    "history =  model.fit(x_train, y_train, batch_size=50, epochs=3, validation_split=0.1)"
   ]
  },
  {
   "cell_type": "code",
   "execution_count": 83,
   "metadata": {},
   "outputs": [
    {
     "name": "stdout",
     "output_type": "stream",
     "text": [
      "\\History Dict for ADAM:  {'loss': [0.190213175501558, 0.12536549802135494, 0.11112305076611746], 'sparse_categorical_accuracy': [0.95577776, 0.96657777, 0.97117776], 'val_loss': [0.2360446309298277, 0.1984673766605556, 0.19835059514734893], 'val_sparse_categorical_accuracy': [0.9392, 0.951, 0.9542]}\n"
     ]
    }
   ],
   "source": [
    "print('\\History Dict for ADAM: ', history.history)"
   ]
  },
  {
   "cell_type": "code",
   "execution_count": 84,
   "metadata": {},
   "outputs": [
    {
     "name": "stdout",
     "output_type": "stream",
     "text": [
      "10000/10000 [==============================] - 1s 92us/sample - loss: 0.1645 - sparse_categorical_accuracy: 0.9670\n"
     ]
    }
   ],
   "source": [
    "adam_op = model.evaluate(x_test,y_test)"
   ]
  },
  {
   "cell_type": "code",
   "execution_count": 85,
   "metadata": {},
   "outputs": [
    {
     "name": "stdout",
     "output_type": "stream",
     "text": [
      "\n",
      "Fit Ada_Grad with the training data\n",
      "Train on 45000 samples, validate on 5000 samples\n",
      "Epoch 1/3\n",
      "45000/45000 [==============================] - 5s 107us/sample - loss: 0.0637 - sparse_categorical_accuracy: 0.9830 - val_loss: 0.1548 - val_sparse_categorical_accuracy: 0.9622\n",
      "Epoch 2/3\n",
      "45000/45000 [==============================] - 4s 90us/sample - loss: 0.0546 - sparse_categorical_accuracy: 0.9851 - val_loss: 0.1492 - val_sparse_categorical_accuracy: 0.9634\n",
      "Epoch 3/3\n",
      "45000/45000 [==============================] - 4s 92us/sample - loss: 0.0505 - sparse_categorical_accuracy: 0.9859 - val_loss: 0.1456 - val_sparse_categorical_accuracy: 0.9638\n"
     ]
    }
   ],
   "source": [
    "#This algorithm decays the learning rate, but it does so faster for steep dimensions than for dimensions with gentler slopes.\n",
    "#It performs well for simple quadratic problems but unfortunately it often stops too early when training neural networks.\n",
    "model.compile(optimizer = keras.optimizers.Adagrad(learning_rate=0.01, epsilon=None, decay=0.0),\n",
    "                        loss = keras.losses.SparseCategoricalCrossentropy(from_logits=True),\n",
    "                        metrics = ['sparse_categorical_accuracy'])\n",
    "\n",
    "print('\\nFit Ada_Grad with the training data')\n",
    "history =  model.fit(x_train, y_train, batch_size=50, epochs=3, validation_split=0.1)"
   ]
  },
  {
   "cell_type": "code",
   "execution_count": 86,
   "metadata": {},
   "outputs": [
    {
     "name": "stdout",
     "output_type": "stream",
     "text": [
      "\n",
      "History Dict for Ada_Grad:  {'loss': [0.06370496754906425, 0.05463588890606641, 0.050531020456110125], 'sparse_categorical_accuracy': [0.983, 0.9851111, 0.9859333], 'val_loss': [0.15477833558688872, 0.14922766109229996, 0.1455681456986349], 'val_sparse_categorical_accuracy': [0.9622, 0.9634, 0.9638]}\n"
     ]
    }
   ],
   "source": [
    "print('\\nHistory Dict for Ada_Grad: ', history.history)"
   ]
  },
  {
   "cell_type": "code",
   "execution_count": 87,
   "metadata": {},
   "outputs": [
    {
     "name": "stdout",
     "output_type": "stream",
     "text": [
      "10000/10000 [==============================] - 1s 101us/sample - loss: 0.1153 - sparse_categorical_accuracy: 0.9731\n"
     ]
    }
   ],
   "source": [
    "Ada_Grad = model.evaluate(x_test,y_test)"
   ]
  },
  {
   "cell_type": "code",
   "execution_count": 88,
   "metadata": {},
   "outputs": [
    {
     "name": "stdout",
     "output_type": "stream",
     "text": [
      "\n",
      "Fit nesterov optimizer with the training data\n",
      "Train on 45000 samples, validate on 5000 samples\n",
      "Epoch 1/3\n",
      "45000/45000 [==============================] - 5s 105us/sample - loss: 0.0496 - sparse_categorical_accuracy: 0.9864 - val_loss: 0.1417 - val_sparse_categorical_accuracy: 0.9642\n",
      "Epoch 2/3\n",
      "45000/45000 [==============================] - 4s 93us/sample - loss: 0.0476 - sparse_categorical_accuracy: 0.9867 - val_loss: 0.1416 - val_sparse_categorical_accuracy: 0.9638\n",
      "Epoch 3/3\n",
      "45000/45000 [==============================] - 4s 93us/sample - loss: 0.0469 - sparse_categorical_accuracy: 0.9870 - val_loss: 0.1381 - val_sparse_categorical_accuracy: 0.9630\n"
     ]
    }
   ],
   "source": [
    "#oscillations and thus converges faster.\n",
    "model.compile(optimizer = keras.optimizers.SGD(learning_rate=0.01, momentum=0.0, decay=0.0, nesterov=True),\n",
    "                           loss = keras.losses.SparseCategoricalCrossentropy(from_logits=True),\n",
    "                           metrics = ['sparse_categorical_accuracy'])\n",
    "\n",
    "print('\\nFit nesterov optimizer with the training data')\n",
    "history =  model.fit(x_train, y_train, batch_size=50, epochs=3, validation_split=0.1)"
   ]
  },
  {
   "cell_type": "code",
   "execution_count": 89,
   "metadata": {},
   "outputs": [
    {
     "name": "stdout",
     "output_type": "stream",
     "text": [
      "\\History Dict for nesterov:  {'loss': [0.049597389798905676, 0.04761053173629787, 0.04690112511507727], 'sparse_categorical_accuracy': [0.9864, 0.9866889, 0.9870222], 'val_loss': [0.1416707751591457, 0.1416371608816553, 0.13809165767626838], 'val_sparse_categorical_accuracy': [0.9642, 0.9638, 0.963]}\n"
     ]
    }
   ],
   "source": [
    "print('\\History Dict for nesterov: ', history.history)"
   ]
  },
  {
   "cell_type": "code",
   "execution_count": 90,
   "metadata": {},
   "outputs": [
    {
     "name": "stdout",
     "output_type": "stream",
     "text": [
      "10000/10000 [==============================] - 1s 108us/sample - loss: 0.1115 - sparse_categorical_accuracy: 0.9729\n"
     ]
    }
   ],
   "source": [
    "nesterov_op = model.evaluate(x_test,y_test)"
   ]
  },
  {
   "cell_type": "code",
   "execution_count": 91,
   "metadata": {},
   "outputs": [],
   "source": [
    "# Load the tensorboard notebook extension\n",
    "%load_ext tensorboard"
   ]
  },
  {
   "cell_type": "code",
   "execution_count": 92,
   "metadata": {},
   "outputs": [],
   "source": [
    "import tensorflow as tf\n",
    "import datetime\n",
    "\n",
    "#Clear any logs from previous runs\n",
    "#!rm -rf ./logs/"
   ]
  },
  {
   "cell_type": "code",
   "execution_count": 93,
   "metadata": {},
   "outputs": [],
   "source": [
    "mnist = tf.keras.datasets.mnist\n",
    "\n",
    "(x_train, y_train), (x_test, y_test) = mnist.load_data()\n",
    "x_train, x_test = x_train / 255.0, x_test / 255.0\n",
    "\n",
    "\n",
    "def create_model():\n",
    "    return tf.keras.models.Sequential([\n",
    "        tf.keras.layers.Flatten(input_shape=(28,28)),\n",
    "        tf.keras.layers.Dense(512, activation = 'relu'),\n",
    "        tf.keras.layers.Dropout(0.2),\n",
    "        tf.keras.layers.Dense(10, activation='softmax')\n",
    "    ])"
   ]
  },
  {
   "cell_type": "code",
   "execution_count": 94,
   "metadata": {},
   "outputs": [
    {
     "name": "stdout",
     "output_type": "stream",
     "text": [
      "Train on 60000 samples, validate on 10000 samples\n",
      "Epoch 1/5\n",
      "60000/60000 [==============================] - 18s 296us/sample - loss: 0.2228 - accuracy: 0.9331 - val_loss: 0.1058 - val_accuracy: 0.9679\n",
      "Epoch 2/5\n",
      "60000/60000 [==============================] - 15s 248us/sample - loss: 0.0972 - accuracy: 0.9704 - val_loss: 0.0795 - val_accuracy: 0.9749\n",
      "Epoch 3/5\n",
      "60000/60000 [==============================] - 14s 236us/sample - loss: 0.0692 - accuracy: 0.9787 - val_loss: 0.0759 - val_accuracy: 0.9758\n",
      "Epoch 4/5\n",
      "60000/60000 [==============================] - 14s 236us/sample - loss: 0.0541 - accuracy: 0.9823 - val_loss: 0.0695 - val_accuracy: 0.9788\n",
      "Epoch 5/5\n",
      "60000/60000 [==============================] - 15s 242us/sample - loss: 0.0426 - accuracy: 0.9864 - val_loss: 0.0712 - val_accuracy: 0.9796\n"
     ]
    },
    {
     "data": {
      "text/plain": [
       "<tensorflow.python.keras.callbacks.History at 0x22bb0c4c388>"
      ]
     },
     "execution_count": 94,
     "metadata": {},
     "output_type": "execute_result"
    }
   ],
   "source": [
    "model = create_model()\n",
    "model.compile(optimizer='adam',\n",
    "             loss = 'sparse_categorical_crossentropy',\n",
    "             metrics = ['accuracy'])\n",
    "\n",
    "\n",
    "# log_dir=\"logs\\\\fit\\\\\" + datetime.datetime.now().strftime(\"%Y%m%d-%H%M%S\")\n",
    "# train_summary_writer = tf.summary.create_file_writer(log_dir)\n",
    "# tensorboard_callback = [tf.keras.callbacks.TensorBoard(log_dir=log_dir, histogram_freq=1)]\n",
    "\n",
    "import os\n",
    "os.makedirs('logs',exist_ok=True)\n",
    "log_dir=\"logs\\\\fit\\\\\" + datetime.datetime.now().strftime(\"%Y%m%d-%H%M%S\")\n",
    "log_dir = ('.\\\\logs')\n",
    "tensorboard_callback = tf.keras.callbacks.TensorBoard(log_dir=log_dir, histogram_freq=1)\n",
    "\n",
    "model.fit(x_train,y_train, epochs=5, validation_data=(x_test,y_test), \n",
    "          callbacks=[tf.keras.callbacks.TensorBoard(log_dir=log_dir, histogram_freq=1,profile_batch = 100000000)])\n"
   ]
  },
  {
   "cell_type": "code",
   "execution_count": 95,
   "metadata": {},
   "outputs": [],
   "source": [
    "#%tensorboard --logdir logs\\\\fit "
   ]
  },
  {
   "cell_type": "markdown",
   "metadata": {},
   "source": [
    "# Learning Rate Scheduling"
   ]
  },
  {
   "cell_type": "code",
   "execution_count": 96,
   "metadata": {},
   "outputs": [],
   "source": [
    "model = tf.keras.models.Sequential([\n",
    "  tf.keras.layers.Dense(units = 300, activation = 'relu' ,input_shape = (784,),name = 'hidden1'),\n",
    "  tf.keras.layers.Dense(units = 50, activation = 'relu', name = 'hidden2'),\n",
    "  tf.keras.layers.Dense(units = 10, name='ouputs') \n",
    "])"
   ]
  },
  {
   "cell_type": "code",
   "execution_count": 97,
   "metadata": {},
   "outputs": [],
   "source": [
    "(x_train, y_train), (x_test, y_test) = keras.datasets.mnist.load_data()\n",
    "\n",
    "# Preprocess the data using Numpy arrays\n",
    "x_train = x_train.reshape(60000, 784).astype('float32') /  255\n",
    "x_test = x_test.reshape(10000, 784).astype('float32') / 255\n",
    "\n",
    "y_train = y_train.astype('float32')\n",
    "y_test = y_test.astype('float32')"
   ]
  },
  {
   "cell_type": "code",
   "execution_count": 98,
   "metadata": {},
   "outputs": [],
   "source": [
    "#Exponential Decay schedule applies to the optimizer step for each learning rate.This helpful when \n",
    "#changing learning rate value across different invocations of optimizer functions.\n",
    "\n",
    "initial_learning_rate = 0.1\n",
    "learning_schedule = tf.keras.optimizers.schedules.ExponentialDecay(\n",
    "initial_learning_rate, decay_steps = 100000, decay_rate=0.96, staircase=True) #staircase is True which is step / decay_steps\n",
    "\n",
    "model.compile(optimizer=tf.keras.optimizers.SGD(learning_rate = learning_schedule, momentum=0.9),\n",
    "             loss = tf.keras.losses.SparseCategoricalCrossentropy(from_logits=True),\n",
    "             metrics = ['accuracy'])"
   ]
  },
  {
   "cell_type": "code",
   "execution_count": 99,
   "metadata": {},
   "outputs": [
    {
     "name": "stdout",
     "output_type": "stream",
     "text": [
      "Train on 54000 samples, validate on 6000 samples\n",
      "Epoch 1/3\n",
      "54000/54000 [==============================] - 6s 118us/sample - loss: 0.2726 - accuracy: 0.9185 - val_loss: 0.1240 - val_accuracy: 0.9622\n",
      "Epoch 2/3\n",
      "54000/54000 [==============================] - 5s 91us/sample - loss: 0.1401 - accuracy: 0.9591 - val_loss: 0.1519 - val_accuracy: 0.9552\n",
      "Epoch 3/3\n",
      "54000/54000 [==============================] - 5s 92us/sample - loss: 0.1090 - accuracy: 0.9679 - val_loss: 0.0962 - val_accuracy: 0.9730\n"
     ]
    },
    {
     "data": {
      "text/plain": [
       "<tensorflow.python.keras.callbacks.History at 0x22bb0bc5a08>"
      ]
     },
     "execution_count": 99,
     "metadata": {},
     "output_type": "execute_result"
    }
   ],
   "source": [
    "model.fit(x_train, y_train, epochs=3, batch_size=50, validation_split=0.1)"
   ]
  },
  {
   "cell_type": "code",
   "execution_count": 100,
   "metadata": {},
   "outputs": [
    {
     "name": "stdout",
     "output_type": "stream",
     "text": [
      "\n",
      "History Dict for Exponential Decay {'loss': [0.049597389798905676, 0.04761053173629787, 0.04690112511507727], 'sparse_categorical_accuracy': [0.9864, 0.9866889, 0.9870222], 'val_loss': [0.1416707751591457, 0.1416371608816553, 0.13809165767626838], 'val_sparse_categorical_accuracy': [0.9642, 0.9638, 0.963]}\n"
     ]
    }
   ],
   "source": [
    "print('\\nHistory Dict for Exponential Decay', history.history)"
   ]
  },
  {
   "cell_type": "code",
   "execution_count": 101,
   "metadata": {},
   "outputs": [
    {
     "name": "stdout",
     "output_type": "stream",
     "text": [
      "10000/10000 [==============================] - 1s 96us/sample - loss: 0.1071 - accuracy: 0.9711\n"
     ]
    }
   ],
   "source": [
    "results = model.evaluate(x_test, y_test)"
   ]
  },
  {
   "cell_type": "markdown",
   "metadata": {},
   "source": [
    "# Avoiding Overfitting Through Regularization\n",
    "- L1 regularization - Lasso regression - used to shrink values and mainly workes for models with few coefficients ie sparse models.\n",
    "- L2 regularization - Ridge regression - penalty equal to the square of the magnitude of coefficients.\n",
    "- Elastic nets use L1 and L2 methods but do add hyperparameter"
   ]
  },
  {
   "cell_type": "code",
   "execution_count": 102,
   "metadata": {},
   "outputs": [],
   "source": [
    "from keras import regularizers\n",
    "model = tf.keras.models.Sequential([\n",
    "  tf.keras.layers.Dense(units = 300, kernel_regularizer=regularizers.l1(0.01),activation = 'relu' ,input_shape = (784,),name = 'hidden1'),\n",
    "  tf.keras.layers.Dense(units = 50, kernel_regularizer=regularizers.l1(0.01),activation = 'relu', name = 'hidden2'),\n",
    "  tf.keras.layers.Dense(units = 10, name='ouputs') \n",
    "])"
   ]
  },
  {
   "cell_type": "code",
   "execution_count": 103,
   "metadata": {},
   "outputs": [],
   "source": [
    "model.compile(optimizer=tf.keras.optimizers.SGD(learning_rate = 0.01, momentum=0.9),\n",
    "             loss = tf.keras.losses.SparseCategoricalCrossentropy(from_logits=True),\n",
    "             metrics = ['accuracy'])"
   ]
  },
  {
   "cell_type": "code",
   "execution_count": 104,
   "metadata": {},
   "outputs": [
    {
     "name": "stdout",
     "output_type": "stream",
     "text": [
      "Train on 54000 samples, validate on 6000 samples\n",
      "Epoch 1/3\n",
      "54000/54000 [==============================] - 3s 59us/sample - loss: 15.3510 - accuracy: 0.6638 - val_loss: 1.7015 - val_accuracy: 0.8082\n",
      "Epoch 2/3\n",
      "54000/54000 [==============================] - 2s 43us/sample - loss: 1.5987 - accuracy: 0.8079 - val_loss: 1.4222 - val_accuracy: 0.8507\n",
      "Epoch 3/3\n",
      "54000/54000 [==============================] - 2s 46us/sample - loss: 1.4287 - accuracy: 0.8311 - val_loss: 1.2919 - val_accuracy: 0.8680\n"
     ]
    },
    {
     "data": {
      "text/plain": [
       "<tensorflow.python.keras.callbacks.History at 0x22bb44f9cc8>"
      ]
     },
     "execution_count": 104,
     "metadata": {},
     "output_type": "execute_result"
    }
   ],
   "source": [
    "model.fit(x_train, y_train, epochs=3, batch_size=200, validation_split=0.1)"
   ]
  },
  {
   "cell_type": "code",
   "execution_count": 105,
   "metadata": {},
   "outputs": [
    {
     "name": "stdout",
     "output_type": "stream",
     "text": [
      "10000/10000 [==============================] - 1s 96us/sample - loss: 1.3398 - accuracy: 0.8421\n"
     ]
    }
   ],
   "source": [
    "results = model.evaluate(x_test,y_test)"
   ]
  },
  {
   "cell_type": "markdown",
   "metadata": {},
   "source": [
    "# Dropout\n",
    "- Every training step, every neuron including the input neurons but excluding the output neurons has a probability p of being temporarily “dropped out,” meaning it will be entirely ignored during this training step but it may be active during the next step.\n",
    "- We need to multiply each input connection weight by the keep probability (1 – p) after training.\n",
    "- During training this function randomly drops some items setting them to 0 and divides the remaining items by the keep probability."
   ]
  },
  {
   "cell_type": "code",
   "execution_count": 106,
   "metadata": {},
   "outputs": [
    {
     "name": "stdout",
     "output_type": "stream",
     "text": [
      "2.1.0\n"
     ]
    }
   ],
   "source": [
    "model = tf.keras.models.Sequential([\n",
    "  tf.keras.layers.Dense(units = 300, activation = 'relu' ,input_shape = (784,),name = 'hidden1'),\n",
    "  tf.keras.layers.Dropout(0.5),\n",
    "  tf.keras.layers.Dense(units = 50, activation = 'relu', name = 'hidden2'),\n",
    "  tf.keras.layers.Dropout(0.5),  \n",
    "  tf.keras.layers.Dense(units = 10, name='ouputs') \n",
    "])\n",
    "print(tf.__version__)"
   ]
  },
  {
   "cell_type": "code",
   "execution_count": 107,
   "metadata": {},
   "outputs": [
    {
     "name": "stdout",
     "output_type": "stream",
     "text": [
      "Model: \"sequential_6\"\n",
      "_________________________________________________________________\n",
      "Layer (type)                 Output Shape              Param #   \n",
      "=================================================================\n",
      "hidden1 (Dense)              (None, 300)               235500    \n",
      "_________________________________________________________________\n",
      "dropout_1 (Dropout)          (None, 300)               0         \n",
      "_________________________________________________________________\n",
      "hidden2 (Dense)              (None, 50)                15050     \n",
      "_________________________________________________________________\n",
      "dropout_2 (Dropout)          (None, 50)                0         \n",
      "_________________________________________________________________\n",
      "ouputs (Dense)               (None, 10)                510       \n",
      "=================================================================\n",
      "Total params: 251,060\n",
      "Trainable params: 251,060\n",
      "Non-trainable params: 0\n",
      "_________________________________________________________________\n"
     ]
    }
   ],
   "source": [
    "model.summary()"
   ]
  },
  {
   "cell_type": "code",
   "execution_count": 108,
   "metadata": {},
   "outputs": [],
   "source": [
    "model.compile(optimizer = keras.optimizers.SGD(learning_rate=0.01, momentum=0.9),\n",
    "             loss = keras.losses.SparseCategoricalCrossentropy(from_logits=True),\n",
    "             metrics=['sparse_categorical_accuracy'])"
   ]
  },
  {
   "cell_type": "code",
   "execution_count": 109,
   "metadata": {},
   "outputs": [
    {
     "name": "stdout",
     "output_type": "stream",
     "text": [
      "Train on 48000 samples, validate on 12000 samples\n",
      "Epoch 1/20\n",
      "48000/48000 [==============================] - 6s 116us/sample - loss: 0.6896 - sparse_categorical_accuracy: 0.7810 - val_loss: 0.2113 - val_sparse_categorical_accuracy: 0.9378\n",
      "Epoch 2/20\n",
      "48000/48000 [==============================] - 5s 112us/sample - loss: 0.3456 - sparse_categorical_accuracy: 0.9011 - val_loss: 0.1574 - val_sparse_categorical_accuracy: 0.9541\n",
      "Epoch 3/20\n",
      "48000/48000 [==============================] - 5s 105us/sample - loss: 0.2787 - sparse_categorical_accuracy: 0.9222 - val_loss: 0.1373 - val_sparse_categorical_accuracy: 0.9599\n",
      "Epoch 4/20\n",
      "48000/48000 [==============================] - 5s 111us/sample - loss: 0.2419 - sparse_categorical_accuracy: 0.9339 - val_loss: 0.1274 - val_sparse_categorical_accuracy: 0.9631\n",
      "Epoch 5/20\n",
      "48000/48000 [==============================] - 5s 101us/sample - loss: 0.2181 - sparse_categorical_accuracy: 0.9396 - val_loss: 0.1211 - val_sparse_categorical_accuracy: 0.9642\n",
      "Epoch 6/20\n",
      "48000/48000 [==============================] - 5s 106us/sample - loss: 0.1951 - sparse_categorical_accuracy: 0.9454 - val_loss: 0.1114 - val_sparse_categorical_accuracy: 0.9668\n",
      "Epoch 7/20\n",
      "48000/48000 [==============================] - 5s 101us/sample - loss: 0.1852 - sparse_categorical_accuracy: 0.9489 - val_loss: 0.1095 - val_sparse_categorical_accuracy: 0.9684\n",
      "Epoch 8/20\n",
      "48000/48000 [==============================] - 5s 102us/sample - loss: 0.1726 - sparse_categorical_accuracy: 0.9523 - val_loss: 0.1064 - val_sparse_categorical_accuracy: 0.9696\n",
      "Epoch 9/20\n",
      "48000/48000 [==============================] - 5s 104us/sample - loss: 0.1613 - sparse_categorical_accuracy: 0.9548 - val_loss: 0.0945 - val_sparse_categorical_accuracy: 0.9744\n",
      "Epoch 10/20\n",
      "48000/48000 [==============================] - 5s 113us/sample - loss: 0.1523 - sparse_categorical_accuracy: 0.9571 - val_loss: 0.0971 - val_sparse_categorical_accuracy: 0.9721\n",
      "Epoch 11/20\n",
      "48000/48000 [==============================] - 5s 114us/sample - loss: 0.1494 - sparse_categorical_accuracy: 0.9579 - val_loss: 0.0913 - val_sparse_categorical_accuracy: 0.9741\n",
      "Epoch 12/20\n",
      "48000/48000 [==============================] - 5s 109us/sample - loss: 0.1460 - sparse_categorical_accuracy: 0.9588 - val_loss: 0.0919 - val_sparse_categorical_accuracy: 0.9734\n",
      "Epoch 13/20\n",
      "48000/48000 [==============================] - 5s 103us/sample - loss: 0.1371 - sparse_categorical_accuracy: 0.9603 - val_loss: 0.0958 - val_sparse_categorical_accuracy: 0.9732\n",
      "Epoch 14/20\n",
      "48000/48000 [==============================] - 5s 107us/sample - loss: 0.1319 - sparse_categorical_accuracy: 0.9634 - val_loss: 0.0932 - val_sparse_categorical_accuracy: 0.9759\n",
      "Epoch 15/20\n",
      "48000/48000 [==============================] - 5s 103us/sample - loss: 0.1326 - sparse_categorical_accuracy: 0.9619 - val_loss: 0.0911 - val_sparse_categorical_accuracy: 0.9748\n",
      "Epoch 16/20\n",
      "48000/48000 [==============================] - 5s 106us/sample - loss: 0.1236 - sparse_categorical_accuracy: 0.9646 - val_loss: 0.0917 - val_sparse_categorical_accuracy: 0.9743\n",
      "Epoch 17/20\n",
      "48000/48000 [==============================] - 5s 107us/sample - loss: 0.1192 - sparse_categorical_accuracy: 0.9654 - val_loss: 0.0895 - val_sparse_categorical_accuracy: 0.9764\n",
      "Epoch 18/20\n",
      "48000/48000 [==============================] - 6s 116us/sample - loss: 0.1170 - sparse_categorical_accuracy: 0.9663 - val_loss: 0.0886 - val_sparse_categorical_accuracy: 0.9764\n",
      "Epoch 19/20\n",
      "48000/48000 [==============================] - 5s 105us/sample - loss: 0.1136 - sparse_categorical_accuracy: 0.9675 - val_loss: 0.0950 - val_sparse_categorical_accuracy: 0.9756\n",
      "Epoch 20/20\n",
      "48000/48000 [==============================] - 5s 103us/sample - loss: 0.1110 - sparse_categorical_accuracy: 0.9680 - val_loss: 0.0881 - val_sparse_categorical_accuracy: 0.9762\n"
     ]
    }
   ],
   "source": [
    "history = model.fit(x_train, y_train, batch_size=50, epochs=20, validation_split=0.2)"
   ]
  },
  {
   "cell_type": "code",
   "execution_count": 110,
   "metadata": {},
   "outputs": [
    {
     "name": "stdout",
     "output_type": "stream",
     "text": [
      "10000/10000 [==============================] - 1s 104us/sample - loss: 0.0784 - sparse_categorical_accuracy: 0.9777\n"
     ]
    }
   ],
   "source": [
    "results = model.evaluate(x_test,y_test)"
   ]
  },
  {
   "cell_type": "code",
   "execution_count": 111,
   "metadata": {},
   "outputs": [
    {
     "name": "stdout",
     "output_type": "stream",
     "text": [
      "\n",
      "History Dict for Dropout:  {'loss': [0.689556508914878, 0.3456352708938842, 0.278738021318956, 0.24194554003188387, 0.21812677580552797, 0.19506843059595363, 0.18516928631579505, 0.17257928027538583, 0.16129256884839074, 0.15232695974312568, 0.14940985526676134, 0.14600914858359224, 0.13705651573642777, 0.13190412131565002, 0.13263633165624925, 0.1236039522884918, 0.11923345717368647, 0.11696623486350291, 0.11362407281752288, 0.11102817018787997], 'sparse_categorical_accuracy': [0.78095835, 0.901125, 0.92216665, 0.9339375, 0.939625, 0.9453958, 0.948875, 0.9522708, 0.95475, 0.95708334, 0.9578958, 0.9588125, 0.96025, 0.96339583, 0.9618958, 0.96458334, 0.9653958, 0.9662708, 0.96747917, 0.96795833], 'val_loss': [0.21130832561757415, 0.15739615289494396, 0.1373325428008684, 0.1274308190011652, 0.12111928753195873, 0.11141833953200452, 0.10945768149516273, 0.10635036361600214, 0.09452793002092222, 0.09709848921581093, 0.09125687815746157, 0.09188746280512229, 0.09578311741115612, 0.0932206209650758, 0.09109214689172708, 0.09168837854783002, 0.08951937367995318, 0.08861673203694712, 0.09496167864975481, 0.08813282672375257], 'val_sparse_categorical_accuracy': [0.9378333, 0.9540833, 0.95991665, 0.9630833, 0.96416664, 0.96675, 0.9684167, 0.96958333, 0.9744167, 0.97208333, 0.9740833, 0.9734167, 0.97325, 0.9759167, 0.9748333, 0.97425, 0.97641665, 0.97641665, 0.9755833, 0.97625]}\n"
     ]
    }
   ],
   "source": [
    "print('\\nHistory Dict for Dropout: ', history.history)"
   ]
  },
  {
   "cell_type": "code",
   "execution_count": 112,
   "metadata": {},
   "outputs": [
    {
     "data": {
      "image/png": "[encoded data removed]",
      "text/plain": [
       "<Figure size 1440x432 with 2 Axes>"
      ]
     },
     "metadata": {
      "needs_background": "light"
     },
     "output_type": "display_data"
    }
   ],
   "source": [
    "plt.figure(figsize=(20,6))\n",
    "plt.subplot(121)\n",
    "epoch_range = range(1,21)\n",
    "plt.plot(epoch_range,history.history['sparse_categorical_accuracy'])\n",
    "plt.plot(epoch_range, history.history['val_sparse_categorical_accuracy'])\n",
    "plt.title('Model Accuracy')\n",
    "plt.ylabel('Accuracy')\n",
    "plt.xlabel('Epoch')\n",
    "plt.legend(['Train','Val'], loc='upper left')\n",
    "\n",
    "plt.subplot(122)\n",
    "plt.plot(epoch_range, history.history['loss'])\n",
    "plt.plot(epoch_range, history.history['val_loss'])\n",
    "plt.title('Model Loss')\n",
    "plt.ylabel('Loss')\n",
    "plt.xlabel('Epoch')\n",
    "plt.legend(['Train','Val'], loc='upper right')\n",
    "plt.show()"
   ]
  },
  {
   "cell_type": "markdown",
   "metadata": {},
   "source": [
    "# MaxNorm function\n",
    "- This regularization technique is quite popular for neural networks where for each neuron it constrains the weights w of the incoming connections such that w 2 ≤ r. r is the max-norm hyperparameter and 2 is the ℓ2 norm."
   ]
  },
  {
   "cell_type": "code",
   "execution_count": 113,
   "metadata": {},
   "outputs": [],
   "source": [
    "m_n = keras.constraints.MaxNorm(max_value=2, axis=0)\n",
    "model = tf.keras.models.Sequential([\n",
    "  tf.keras.layers.Dense(units = 300, kernel_constraint = m_n, activation = 'relu' ,input_shape = (784,),name = 'hidden1'),\n",
    "  tf.keras.layers.Dense(units = 50, kernel_constraint= m_n, activation = 'relu', name = 'hidden2'), \n",
    "  tf.keras.layers.Dense(units = 10, name='ouputs') \n",
    "])"
   ]
  },
  {
   "cell_type": "code",
   "execution_count": 114,
   "metadata": {},
   "outputs": [
    {
     "name": "stdout",
     "output_type": "stream",
     "text": [
      "Model: \"sequential_7\"\n",
      "_________________________________________________________________\n",
      "Layer (type)                 Output Shape              Param #   \n",
      "=================================================================\n",
      "hidden1 (Dense)              (None, 300)               235500    \n",
      "_________________________________________________________________\n",
      "hidden2 (Dense)              (None, 50)                15050     \n",
      "_________________________________________________________________\n",
      "ouputs (Dense)               (None, 10)                510       \n",
      "=================================================================\n",
      "Total params: 251,060\n",
      "Trainable params: 251,060\n",
      "Non-trainable params: 0\n",
      "_________________________________________________________________\n"
     ]
    }
   ],
   "source": [
    "model.summary()"
   ]
  },
  {
   "cell_type": "code",
   "execution_count": 115,
   "metadata": {},
   "outputs": [],
   "source": [
    "model.compile(optimizer = keras.optimizers.SGD(learning_rate=0.01, momentum=0.9),\n",
    "             loss = keras.losses.SparseCategoricalCrossentropy(from_logits=True),\n",
    "             metrics = ['sparse_categorical_accuracy'])"
   ]
  },
  {
   "cell_type": "code",
   "execution_count": 116,
   "metadata": {},
   "outputs": [
    {
     "name": "stdout",
     "output_type": "stream",
     "text": [
      "Train on 54000 samples, validate on 6000 samples\n",
      "Epoch 1/3\n",
      "54000/54000 [==============================] - 7s 121us/sample - loss: 0.3379 - sparse_categorical_accuracy: 0.9007 - val_loss: 0.1491 - val_sparse_categorical_accuracy: 0.9585\n",
      "Epoch 2/3\n",
      "54000/54000 [==============================] - 6s 105us/sample - loss: 0.1406 - sparse_categorical_accuracy: 0.9575 - val_loss: 0.1025 - val_sparse_categorical_accuracy: 0.9703\n",
      "Epoch 3/3\n",
      "54000/54000 [==============================] - 6s 106us/sample - loss: 0.0967 - sparse_categorical_accuracy: 0.9714 - val_loss: 0.0869 - val_sparse_categorical_accuracy: 0.9733\n"
     ]
    }
   ],
   "source": [
    "history = model.fit(x_train, y_train, batch_size=50, epochs=3, validation_split=0.1)"
   ]
  },
  {
   "cell_type": "code",
   "execution_count": 117,
   "metadata": {},
   "outputs": [
    {
     "name": "stdout",
     "output_type": "stream",
     "text": [
      "10000/10000 [==============================] - 1s 91us/sample - loss: 0.0939 - sparse_categorical_accuracy: 0.9711\n"
     ]
    }
   ],
   "source": [
    "results = model.evaluate(x_test,y_test)"
   ]
  },
  {
   "cell_type": "code",
   "execution_count": null,
   "metadata": {},
   "outputs": [],
   "source": []
  }
 ],
 "metadata": {
  "kernelspec": {
   "display_name": "gputest",
   "language": "python",
   "name": "gputest"
  },
  "language_info": {
   "codemirror_mode": {
    "name": "ipython",
    "version": 3
   },
   "file_extension": ".py",
   "mimetype": "text/x-python",
   "name": "python",
   "nbconvert_exporter": "python",
   "pygments_lexer": "ipython3",
   "version": "3.7.6"
  }
 },
 "nbformat": 4,
 "nbformat_minor": 2
}
